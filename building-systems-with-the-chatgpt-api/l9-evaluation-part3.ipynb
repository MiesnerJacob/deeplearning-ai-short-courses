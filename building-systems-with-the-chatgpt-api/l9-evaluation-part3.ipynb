{
 "cells": [
  {
   "cell_type": "markdown",
   "metadata": {},
   "source": [
    "# L9: Evaluation Part II\n",
    "\n",
    "Evaluate LLM responses where there isn't a single \"right answer.\""
   ]
  },
  {
   "cell_type": "markdown",
   "metadata": {},
   "source": [
    "## Setup\n",
    "#### Load the API key and relevant Python libaries.\n",
    "In this course, we've provided some code that loads the OpenAI API key for you."
   ]
  },
  {
   "cell_type": "code",
   "execution_count": 20,
   "metadata": {},
   "outputs": [],
   "source": [
    "import os\n",
    "import openai\n",
    "import sys\n",
    "sys.path.append('./resources')\n",
    "import utils\n",
    "from dotenv import load_dotenv, find_dotenv\n",
    "_ = load_dotenv(find_dotenv()) # read local .env file\n",
    "\n",
    "openai.api_key  = os.environ['OPENAI_API_KEY']"
   ]
  },
  {
   "cell_type": "code",
   "execution_count": 21,
   "metadata": {},
   "outputs": [],
   "source": [
    "def get_completion_from_messages(messages, model=\"gpt-3.5-turbo\", temperature=0, max_tokens=500):\n",
    "    response = openai.ChatCompletion.create(\n",
    "        model=model,\n",
    "        messages=messages,\n",
    "        temperature=temperature, \n",
    "        max_tokens=max_tokens, \n",
    "    )\n",
    "    return response.choices[0].message[\"content\"]"
   ]
  },
  {
   "cell_type": "markdown",
   "metadata": {},
   "source": [
    "### Run through the end-to-end system to answer the user query\n",
    "\n",
    "These helper functions are running the chain of promopts that you saw in the earlier videos."
   ]
  },
  {
   "cell_type": "code",
   "execution_count": 22,
   "metadata": {},
   "outputs": [],
   "source": [
    "customer_msg = f\"\"\"\n",
    "tell me about the smartx pro phone and the fotosnap camera, the dslr one.\n",
    "Also, what TVs or TV related products do you have?\"\"\"\n",
    "\n",
    "products_by_category = utils.get_products_from_query(customer_msg)\n",
    "category_and_product_list = utils.read_string_to_list(products_by_category)\n",
    "product_info = utils.get_mentioned_product_info(category_and_product_list)\n",
    "assistant_answer = utils.answer_user_msg(user_msg=customer_msg,\n",
    "                                                   product_info=product_info)"
   ]
  },
  {
   "cell_type": "code",
   "execution_count": 23,
   "metadata": {},
   "outputs": [
    {
     "name": "stdout",
     "output_type": "stream",
     "text": [
      "Sure! Let me provide you with some information about the SmartX ProPhone and the FotoSnap DSLR Camera.\n",
      "\n",
      "The SmartX ProPhone is a powerful smartphone with advanced camera features. It has a 6.1-inch display, 128GB storage, a 12MP dual camera, and supports 5G connectivity. The SmartX ProPhone is priced at $899.99 and comes with a 1-year warranty.\n",
      "\n",
      "The FotoSnap DSLR Camera is a versatile camera that allows you to capture stunning photos and videos. It features a 24.2MP sensor, 1080p video recording, a 3-inch LCD screen, and supports interchangeable lenses. The FotoSnap DSLR Camera is priced at $599.99 and also comes with a 1-year warranty.\n",
      "\n",
      "As for TVs and TV-related products, we have a range of options available. Some of our popular TV models include the CineView 4K TV, CineView 8K TV, and CineView OLED TV. We also have home theater systems like the SoundMax Home Theater and SoundMax Soundbar. Could you please let me know your specific requirements or preferences so that I can assist you better?\n"
     ]
    }
   ],
   "source": [
    "print(assistant_answer) "
   ]
  },
  {
   "cell_type": "markdown",
   "metadata": {},
   "source": [
    "### Evaluate the LLM's answer to the user with a rubric, based on the extracted product information"
   ]
  },
  {
   "cell_type": "code",
   "execution_count": 24,
   "metadata": {},
   "outputs": [],
   "source": [
    "cust_prod_info = {\n",
    "    'customer_msg': customer_msg,\n",
    "    'context': product_info\n",
    "}"
   ]
  },
  {
   "cell_type": "code",
   "execution_count": 25,
   "metadata": {},
   "outputs": [],
   "source": [
    "def eval_with_rubric(test_set, assistant_answer):\n",
    "\n",
    "    cust_msg = test_set['customer_msg']\n",
    "    context = test_set['context']\n",
    "    completion = assistant_answer\n",
    "    \n",
    "    system_message = \"\"\"\\\n",
    "    You are an assistant that evaluates how well the customer service agent \\\n",
    "    answers a user question by looking at the context that the customer service \\\n",
    "    agent is using to generate its response. \n",
    "    \"\"\"\n",
    "\n",
    "    user_message = f\"\"\"\\\n",
    "You are evaluating a submitted answer to a question based on the context \\\n",
    "that the agent uses to answer the question.\n",
    "Here is the data:\n",
    "    [BEGIN DATA]\n",
    "    ************\n",
    "    [Question]: {cust_msg}\n",
    "    ************\n",
    "    [Context]: {context}\n",
    "    ************\n",
    "    [Submission]: {completion}\n",
    "    ************\n",
    "    [END DATA]\n",
    "\n",
    "Compare the factual content of the submitted answer with the context. \\\n",
    "Ignore any differences in style, grammar, or punctuation.\n",
    "Answer the following questions:\n",
    "    - Is the Assistant response based only on the context provided? (Y or N)\n",
    "    - Does the answer include information that is not provided in the context? (Y or N)\n",
    "    - Is there any disagreement between the response and the context? (Y or N)\n",
    "    - Count how many questions the user asked. (output a number)\n",
    "    - For each question that the user asked, is there a corresponding answer to it?\n",
    "      Question 1: (Y or N)\n",
    "      Question 2: (Y or N)\n",
    "      ...\n",
    "      Question N: (Y or N)\n",
    "    - Of the number of questions asked, how many of these questions were addressed by the answer? (output a number)\n",
    "\"\"\"\n",
    "\n",
    "    messages = [\n",
    "        {'role': 'system', 'content': system_message},\n",
    "        {'role': 'user', 'content': user_message}\n",
    "    ]\n",
    "\n",
    "    response = get_completion_from_messages(messages)\n",
    "    return response"
   ]
  },
  {
   "cell_type": "code",
   "execution_count": 26,
   "metadata": {},
   "outputs": [
    {
     "name": "stdout",
     "output_type": "stream",
     "text": [
      "- Is the Assistant response based only on the context provided? (Y or N)\n",
      "Y\n",
      "\n",
      "- Does the answer include information that is not provided in the context? (Y or N)\n",
      "N\n",
      "\n",
      "- Is there any disagreement between the response and the context? (Y or N)\n",
      "N\n",
      "\n",
      "- Count how many questions the user asked. (output a number)\n",
      "2\n",
      "\n",
      "- For each question that the user asked, is there a corresponding answer to it?\n",
      "Question 1: Y\n",
      "Question 2: Y\n",
      "\n",
      "- Of the number of questions asked, how many of these questions were addressed by the answer? (output a number)\n",
      "2\n"
     ]
    }
   ],
   "source": [
    "evaluation_output = eval_with_rubric(cust_prod_info, assistant_answer)\n",
    "print(evaluation_output)"
   ]
  },
  {
   "cell_type": "markdown",
   "metadata": {},
   "source": [
    "### Evaluate the LLM's answer to the user based on an \"ideal\" / \"expert\" (human generated) answer."
   ]
  },
  {
   "cell_type": "code",
   "execution_count": 27,
   "metadata": {},
   "outputs": [],
   "source": [
    "test_set_ideal = {\n",
    "    'customer_msg': \"\"\"\\\n",
    "tell me about the smartx pro phone and the fotosnap camera, the dslr one.\n",
    "Also, what TVs or TV related products do you have?\"\"\",\n",
    "    'ideal_answer':\"\"\"\\\n",
    "Of course!  The SmartX ProPhone is a powerful \\\n",
    "smartphone with advanced camera features. \\\n",
    "For instance, it has a 12MP dual camera. \\\n",
    "Other features include 5G wireless and 128GB storage. \\\n",
    "It also has a 6.1-inch display.  The price is $899.99.\n",
    "\n",
    "The FotoSnap DSLR Camera is great for \\\n",
    "capturing stunning photos and videos. \\\n",
    "Some features include 1080p video, \\\n",
    "3-inch LCD, a 24.2MP sensor, \\\n",
    "and interchangeable lenses. \\\n",
    "The price is 599.99.\n",
    "\n",
    "For TVs and TV related products, we offer 3 TVs \\\n",
    "\n",
    "\n",
    "All TVs offer HDR and Smart TV.\n",
    "\n",
    "The CineView 4K TV has vibrant colors and smart features. \\\n",
    "Some of these features include a 55-inch display, \\\n",
    "'4K resolution. It's priced at 599.\n",
    "\n",
    "The CineView 8K TV is a stunning 8K TV. \\\n",
    "Some features include a 65-inch display and \\\n",
    "8K resolution.  It's priced at 2999.99\n",
    "\n",
    "The CineView OLED TV lets you experience vibrant colors. \\\n",
    "Some features include a 55-inch display and 4K resolution. \\\n",
    "It's priced at 1499.99.\n",
    "\n",
    "We also offer 2 home theater products, both which include bluetooth.\\\n",
    "The SoundMax Home Theater is a powerful home theater system for \\\n",
    "an immmersive audio experience.\n",
    "Its features include 5.1 channel, 1000W output, and wireless subwoofer.\n",
    "It's priced at 399.99.\n",
    "\n",
    "The SoundMax Soundbar is a sleek and powerful soundbar.\n",
    "It's features include 2.1 channel, 300W output, and wireless subwoofer.\n",
    "It's priced at 199.99\n",
    "\n",
    "Are there any questions additional you may have about these products \\\n",
    "that you mentioned here?\n",
    "Or may do you have other questions I can help you with?\n",
    "    \"\"\"\n",
    "}"
   ]
  },
  {
   "cell_type": "markdown",
   "metadata": {},
   "source": [
    "### Check if the LLM's response agrees with or disagrees with the expert answer\n",
    "\n",
    "This evaluation prompt is from the [OpenAI evals](https://github.com/openai/evals/blob/main/evals/registry/modelgraded/fact.yaml) project.\n",
    "\n",
    "[BLEU score](https://en.wikipedia.org/wiki/BLEU): another way to evaluate whether two pieces of text are similar or not."
   ]
  },
  {
   "cell_type": "code",
   "execution_count": 29,
   "metadata": {},
   "outputs": [],
   "source": [
    "def eval_vs_ideal(test_set, assistant_answer):\n",
    "\n",
    "    cust_msg = test_set['customer_msg']\n",
    "    ideal = test_set['ideal_answer']\n",
    "    completion = assistant_answer\n",
    "    \n",
    "    system_message = \"\"\"\\\n",
    "    You are an assistant that evaluates how well the customer service agent \\\n",
    "    answers a user question by comparing the response to the ideal (expert) response\n",
    "    Output a single letter and nothing else. \n",
    "    \"\"\"\n",
    "\n",
    "    user_message = f\"\"\"\\\n",
    "You are comparing a submitted answer to an expert answer on a given question. Here is the data:\n",
    "    [BEGIN DATA]\n",
    "    ************\n",
    "    [Question]: {cust_msg}\n",
    "    ************\n",
    "    [Expert]: {ideal}\n",
    "    ************\n",
    "    [Submission]: {completion}\n",
    "    ************\n",
    "    [END DATA]\n",
    "\n",
    "Compare the factual content of the submitted answer with the expert answer. Ignore any differences in style, grammar, or punctuation.\n",
    "    The submitted answer may either be a subset or superset of the expert answer, or it may conflict with it. Determine which case applies. Answer the question by selecting one of the following options:\n",
    "    (A) The submitted answer is a subset of the expert answer and is fully consistent with it.\n",
    "    (B) The submitted answer is a superset of the expert answer and is fully consistent with it.\n",
    "    (C) The submitted answer contains all the same details as the expert answer.\n",
    "    (D) There is a disagreement between the submitted answer and the expert answer.\n",
    "    (E) The answers differ, but these differences don't matter from the perspective of factuality.\n",
    "  choice_strings: ABCDE\n",
    "\"\"\"\n",
    "\n",
    "    messages = [\n",
    "        {'role': 'system', 'content': system_message},\n",
    "        {'role': 'user', 'content': user_message}\n",
    "    ]\n",
    "\n",
    "    response = get_completion_from_messages(messages)\n",
    "    return response"
   ]
  },
  {
   "cell_type": "code",
   "execution_count": 30,
   "metadata": {},
   "outputs": [
    {
     "name": "stdout",
     "output_type": "stream",
     "text": [
      "Sure! Let me provide you with some information about the SmartX ProPhone and the FotoSnap DSLR Camera.\n",
      "\n",
      "The SmartX ProPhone is a powerful smartphone with advanced camera features. It has a 6.1-inch display, 128GB storage, a 12MP dual camera, and supports 5G connectivity. The SmartX ProPhone is priced at $899.99 and comes with a 1-year warranty.\n",
      "\n",
      "The FotoSnap DSLR Camera is a versatile camera that allows you to capture stunning photos and videos. It features a 24.2MP sensor, 1080p video recording, a 3-inch LCD screen, and supports interchangeable lenses. The FotoSnap DSLR Camera is priced at $599.99 and also comes with a 1-year warranty.\n",
      "\n",
      "As for TVs and TV-related products, we have a range of options available. Some of our popular TV models include the CineView 4K TV, CineView 8K TV, and CineView OLED TV. We also have home theater systems like the SoundMax Home Theater and SoundMax Soundbar. Could you please let me know your specific requirements or preferences so that I can assist you better?\n"
     ]
    }
   ],
   "source": [
    "print(assistant_answer)"
   ]
  },
  {
   "cell_type": "code",
   "execution_count": 31,
   "metadata": {},
   "outputs": [
    {
     "data": {
      "text/plain": [
       "'D'"
      ]
     },
     "execution_count": 31,
     "metadata": {},
     "output_type": "execute_result"
    }
   ],
   "source": [
    "eval_vs_ideal(test_set_ideal, assistant_answer)"
   ]
  },
  {
   "cell_type": "code",
   "execution_count": 32,
   "metadata": {},
   "outputs": [],
   "source": [
    "assistant_answer_2 = \"life is like a box of chocolates\""
   ]
  },
  {
   "cell_type": "code",
   "execution_count": 33,
   "metadata": {},
   "outputs": [
    {
     "data": {
      "text/plain": [
       "'D'"
      ]
     },
     "execution_count": 33,
     "metadata": {},
     "output_type": "execute_result"
    }
   ],
   "source": [
    "eval_vs_ideal(test_set_ideal, assistant_answer_2)"
   ]
  },
  {
   "cell_type": "markdown",
   "metadata": {},
   "source": [
    "## Experiment on your own"
   ]
  },
  {
   "cell_type": "code",
   "execution_count": 59,
   "metadata": {},
   "outputs": [],
   "source": [
    "# Define data to reference\n",
    "cities_data = [\n",
    "    {\n",
    "        \"city_name\": \"New York City\",\n",
    "        \"cuisines\": [\"American\", \"Italian\", \"Chinese\", \"Jewish\", \"Mexican\"],\n",
    "        \"professional_sports_leagues\": [\"NBA\", \"MLB\", \"NFL\", \"NHL\"],\n",
    "        \"population\": 8419000,\n",
    "        \"avg_yearly_temperature\": 13\n",
    "    },\n",
    "    {\n",
    "        \"city_name\": \"Los Angeles\",\n",
    "        \"cuisines\": [\"Mexican\", \"Korean\", \"Thai\", \"Vietnamese\", \"American\"],\n",
    "        \"professional_sports_leagues\": [\"NBA\", \"MLB\", \"NFL\", \"NHL\"],\n",
    "        \"population\": 3971000,\n",
    "        \"avg_yearly_temperature\": 19\n",
    "    },\n",
    "    {\n",
    "        \"city_name\": \"Chicago\",\n",
    "        \"cuisines\": [\"American\", \"Italian Beef\", \"Deep Dish Pizza\", \"Polish\", \"Mexican\"],\n",
    "        \"professional_sports_leagues\": [\"NBA\", \"MLB\", \"NFL\", \"NHL\"],\n",
    "        \"population\": 2710000,\n",
    "        \"avg_yearly_temperature\": 11\n",
    "    },\n",
    "    {\n",
    "        \"city_name\": \"Houston\",\n",
    "        \"cuisines\": [\"Tex-Mex\", \"Barbecue\", \"Vietnamese\", \"Indian\", \"American\"],\n",
    "        \"professional_sports_leagues\": [\"NBA\", \"MLB\", \"NFL\"],\n",
    "        \"population\": 2325500,\n",
    "        \"avg_yearly_temperature\": 21\n",
    "    },\n",
    "    {\n",
    "        \"city_name\": \"Phoenix\",\n",
    "        \"cuisines\": [\"Mexican\", \"American\", \"Native American\", \"Italian\", \"Chinese\"],\n",
    "        \"professional_sports_leagues\": [\"NBA\", \"MLB\", \"NFL\", \"NHL\"],\n",
    "        \"population\": 1680000,\n",
    "        \"avg_yearly_temperature\": 25\n",
    "    },\n",
    "    {\n",
    "        \"city_name\": \"Philadelphia\",\n",
    "        \"cuisines\": [\"American\", \"Cheesesteak\", \"Italian\", \"Chinese\", \"Mexican\"],\n",
    "        \"professional_sports_leagues\": [\"NBA\", \"MLB\", \"NFL\", \"NHL\"],\n",
    "        \"population\": 1584000,\n",
    "        \"avg_yearly_temperature\": 13\n",
    "    },\n",
    "    {\n",
    "        \"city_name\": \"San Antonio\",\n",
    "        \"cuisines\": [\"Tex-Mex\", \"Barbecue\", \"American\", \"Mexican\", \"Italian\"],\n",
    "        \"professional_sports_leagues\": [\"NBA\"],\n",
    "        \"population\": 1547000,\n",
    "        \"avg_yearly_temperature\": 21\n",
    "    },\n",
    "    {\n",
    "        \"city_name\": \"San Diego\",\n",
    "        \"cuisines\": [\"Mexican\", \"Seafood\", \"American\", \"Italian\", \"Japanese\"],\n",
    "        \"professional_sports_leagues\": [\"MLB\"],\n",
    "        \"population\": 1420000,\n",
    "        \"avg_yearly_temperature\": 18\n",
    "    },\n",
    "    {\n",
    "        \"city_name\": \"Dallas\",\n",
    "        \"cuisines\": [\"Barbecue\", \"Tex-Mex\", \"American\", \"Mexican\", \"Vietnamese\"],\n",
    "        \"professional_sports_leagues\": [\"NBA\", \"MLB\", \"NFL\", \"NHL\"],\n",
    "        \"population\": 1343000,\n",
    "        \"avg_yearly_temperature\": 19\n",
    "    },\n",
    "    {\n",
    "        \"city_name\": \"San Jose\",\n",
    "        \"cuisines\": [\"Vietnamese\", \"Mexican\", \"American\", \"Indian\", \"Chinese\"],\n",
    "        \"professional_sports_leagues\": [\"NHL\"],\n",
    "        \"population\": 1035000,\n",
    "        \"avg_yearly_temperature\": 15\n",
    "    }\n",
    "]\n"
   ]
  },
  {
   "cell_type": "code",
   "execution_count": 69,
   "metadata": {},
   "outputs": [],
   "source": [
    "# Helper function for searching data\n",
    "def find_cities(user_input, cities_data):\n",
    "\n",
    "    delimiter = \"####\"\n",
    "    system_message = f\"\"\"\n",
    "    You will be provided with travel service queries. \\\n",
    "    The travel service query will be delimited with {delimiter} characters.\n",
    "    Output a python list of json objects, where each object has the requested items.\n",
    "    If the travel query does not pertain to cities return an empty list\n",
    "\n",
    "    List out all data that are relevant to the travel service query.\n",
    "    Allowed data: {cities_data}\n",
    "    \"\"\"\n",
    "    \n",
    "    few_shot_user_1 = \"\"\"What cities have good seafood cuisine?\"\"\"\n",
    "    few_shot_assistant_1 = \"\"\" \n",
    "    {\n",
    "        \"city_name\": \"Phoenix\",\n",
    "        \"cuisines\": [\"Mexican\", \"American\", \"Native American\", \"Italian\", \"Chinese\"],\n",
    "        \"professional_sports_leagues\": [\"NBA\", \"MLB\", \"NFL\", \"NHL\"],\n",
    "        \"population\": 1680000,\n",
    "        \"avg_yearly_temperature\": 25\n",
    "    },\n",
    "    {\n",
    "        \"city_name\": \"Philadelphia\",\n",
    "        \"cuisines\": [\"American\", \"Cheesesteak\", \"Italian\", \"Chinese\", \"Mexican\"],\n",
    "        \"professional_sports_leagues\": [\"NBA\", \"MLB\", \"NFL\", \"NHL\"],\n",
    "        \"population\": 1584000,\n",
    "        \"avg_yearly_temperature\": 13\n",
    "    },\n",
    "    {\n",
    "        \"city_name\": \"San Antonio\",\n",
    "        \"cuisines\": [\"Tex-Mex\", \"Barbecue\", \"American\", \"Mexican\", \"Italian\"],\n",
    "        \"professional_sports_leagues\": [\"NBA\"],\n",
    "        \"population\": 1547000,\n",
    "        \"avg_yearly_temperature\": 21\n",
    "    },\n",
    "    {\n",
    "        \"city_name\": \"San Diego\",\n",
    "        \"cuisines\": [\"Mexican\", \"Seafood\", \"American\", \"Italian\", \"Japanese\"],\n",
    "        \"professional_sports_leagues\": [\"MLB\"],\n",
    "        \"population\": 1420000,\n",
    "        \"avg_yearly_temperature\": 18\n",
    "    },\n",
    "    {\n",
    "        \"city_name\": \"Dallas\",\n",
    "        \"cuisines\": [\"Barbecue\", \"Tex-Mex\", \"American\", \"Mexican\", \"Vietnamese\"],\n",
    "        \"professional_sports_leagues\": [\"NBA\", \"MLB\", \"NFL\", \"NHL\"],\n",
    "        \"population\": 1343000,\n",
    "        \"avg_yearly_temperature\": 19\n",
    "    },\n",
    "    {\n",
    "        \"city_name\": \"San Jose\",\n",
    "        \"cuisines\": [\"Vietnamese\", \"Mexican\", \"American\", \"Indian\", \"Chinese\"],\n",
    "        \"professional_sports_leagues\": [\"NHL\"],\n",
    "        \"population\": 1035000,\n",
    "        \"avg_yearly_temperature\": 15\n",
    "    }\n",
    "    \"\"\"\n",
    "    \n",
    "    messages =  [  \n",
    "    {'role':'system', 'content': system_message},    \n",
    "    {'role':'user', 'content': f\"{delimiter}{few_shot_user_1}{delimiter}\"},  \n",
    "    {'role':'assistant', 'content': few_shot_assistant_1 },\n",
    "    {'role':'user', 'content': f\"{delimiter}{user_input}{delimiter}\"},  \n",
    "    ] \n",
    "    return get_completion_from_messages(messages)\n",
    "\n",
    "\n",
    "def answer_user_query(user_input, cities_data):\n",
    "    cities_data = find_cities(user_input, cities_data)\n",
    "\n",
    "    delimiter = \"####\"\n",
    "    system_message = \"\"\"You are a travel agent answer the user queries in a polite and helpful fashion.\\\n",
    "        Only use the data in the message history context.\"\"\"\n",
    "\n",
    "    messages =  [  \n",
    "        {'role':'system', 'content': system_message},    \n",
    "        {'role':'assistant', 'content': cities_data },\n",
    "        {'role':'user', 'content': f\"{delimiter}{user_input}{delimiter}\"},  \n",
    "    ] \n",
    "    return get_completion_from_messages(messages)"
   ]
  },
  {
   "cell_type": "code",
   "execution_count": 68,
   "metadata": {},
   "outputs": [
    {
     "name": "stdout",
     "output_type": "stream",
     "text": [
      "There are several cities that are great for watching NBA games. Some popular cities known for their NBA teams and vibrant basketball culture include New York City, Los Angeles, Chicago, Houston, Phoenix, and Philadelphia. These cities have NBA teams and offer a fantastic atmosphere for basketball fans.\n"
     ]
    }
   ],
   "source": [
    "# Run through the end-to-end system to answer the user query\n",
    "\n",
    "customer_msg = f\"\"\"What are some good cities to watch NBA games?\"\"\"\n",
    "\n",
    "assistant_answer = answer_user_query(customer_msg, cities_data)\n",
    "print(assistant_answer)"
   ]
  },
  {
   "cell_type": "code",
   "execution_count": 71,
   "metadata": {},
   "outputs": [
    {
     "name": "stdout",
     "output_type": "stream",
     "text": [
      "- Is the Assistant response based only on the context provided? (Y or N)\n",
      "    Y\n",
      "\n",
      "- Does the answer include information that is not provided in the context? (Y or N)\n",
      "    N\n",
      "\n",
      "- Is there any disagreement between the response and the context? (Y or N)\n",
      "    N\n",
      "\n",
      "- Count how many questions the user asked. (output a number)\n",
      "    1\n",
      "\n",
      "- For each question that the user asked, is there a corresponding answer to it?\n",
      "    Question 1: Y\n",
      "\n",
      "- Of the number of questions asked, how many of these questions were addressed by the answer? (output a number)\n",
      "    1\n"
     ]
    }
   ],
   "source": [
    "# Evaluate the LLM's answer to the user with a rubric, based on the extracted cities information\n",
    "\n",
    "def eval_with_rubric(test_set, assistant_answer):\n",
    "\n",
    "    cust_msg = test_set['customer_msg']\n",
    "    context = test_set['context']\n",
    "    completion = assistant_answer\n",
    "    \n",
    "    system_message = \"\"\"\\\n",
    "    You are an assistant that evaluates how well the travel agent \\\n",
    "    answers a user question by looking at the context that the travel service \\\n",
    "    agent is using to generate its response. \n",
    "    \"\"\"\n",
    "\n",
    "    user_message = f\"\"\"\\\n",
    "    You are evaluating a submitted answer to a question based on the context \\\n",
    "    that the agent uses to answer the question.\n",
    "    Here is the data:\n",
    "        [BEGIN DATA]\n",
    "        ************\n",
    "        [Question]: {cust_msg}\n",
    "        ************\n",
    "        [Context]: {context}\n",
    "        ************\n",
    "        [Submission]: {completion}\n",
    "        ************    \n",
    "        [END DATA]\n",
    "\n",
    "    Compare the factual content of the submitted answer with the context. \\\n",
    "    Ignore any differences in style, grammar, or punctuation.\n",
    "    Answer the following questions:\n",
    "        - Is the Assistant response based only on the context provided? (Y or N)\n",
    "        - Does the answer include information that is not provided in the context? (Y or N)\n",
    "        - Is there any disagreement between the response and the context? (Y or N)\n",
    "        - Count how many questions the user asked. (output a number)\n",
    "        - For each question that the user asked, is there a corresponding answer to it?\n",
    "        Question 1: (Y or N)\n",
    "        Question 2: (Y or N)\n",
    "        ...\n",
    "        Question N: (Y or N)\n",
    "        - Of the number of questions asked, how many of these questions were addressed by the answer? (output a number)\n",
    "\"\"\"\n",
    "\n",
    "    messages = [\n",
    "        {'role': 'system', 'content': system_message},\n",
    "        {'role': 'user', 'content': user_message}\n",
    "    ]\n",
    "\n",
    "    response = get_completion_from_messages(messages)\n",
    "    return response\n",
    "\n",
    "cust_city_info = {\n",
    "    'customer_msg': customer_msg,\n",
    "    'context': cities_data\n",
    "}\n",
    "evaluation_output = eval_with_rubric(cust_city_info, assistant_answer)\n",
    "print(evaluation_output)"
   ]
  },
  {
   "cell_type": "code",
   "execution_count": 80,
   "metadata": {},
   "outputs": [
    {
     "name": "stdout",
     "output_type": "stream",
     "text": [
      "C\n",
      "D\n"
     ]
    }
   ],
   "source": [
    "# Evaluate the LLM's answer to the user based on an \"ideal\" / \"expert\" (human generated) answer.\n",
    "\n",
    "test_set_ideal = test_set_ideal = {\n",
    "    \"customer_msg\": \"What are some good cities to watch NBA games?\",\n",
    "    \"ideal_answer\": \"Good cities to watch NBA games include: New York City, Los Angeles, Chicago, Houston, Phoenix, Philadelphia, San Antonio, and Dallas.\"\n",
    "}\n",
    "\n",
    "def eval_vs_ideal(test_set, assistant_answer):\n",
    "\n",
    "    cust_msg = test_set['customer_msg']\n",
    "    ideal = test_set['ideal_answer']\n",
    "    completion = assistant_answer\n",
    "    \n",
    "    system_message = \"\"\"\\\n",
    "    You are an assistant that evaluates how well the travel service agent \\\n",
    "    answers a user question by comparing the response to the ideal (expert) response\n",
    "    Output a single letter and nothing else. \n",
    "    \"\"\"\n",
    "\n",
    "    user_message = f\"\"\"\\\n",
    "You are comparing a submitted answer to an expert answer on a given question. Here is the data:\n",
    "    [BEGIN DATA]\n",
    "    ************\n",
    "    [Question]: {cust_msg}\n",
    "    ************\n",
    "    [Expert]: {ideal}\n",
    "    ************\n",
    "    [Submission]: {completion}\n",
    "    ************\n",
    "    [END DATA]\n",
    "\n",
    "Compare the factual content of the submitted answer with the expert answer. Ignore any differences in style, grammar, or punctuation.\n",
    "    The submitted answer may either be a subset or superset of the expert answer, or it may conflict with it. Determine which case applies. Answer the question by selecting one of the following options:\n",
    "    (A) The submitted answer is a subset of the expert answer and is fully consistent with it.\n",
    "    (B) The submitted answer is a superset of the expert answer and is fully consistent with it.\n",
    "    (C) The submitted answer contains all the same details as the expert answer.\n",
    "    (D) There is a disagreement between the submitted answer and the expert answer.\n",
    "    (E) The answers differ, but these differences don't matter from the perspective of factuality.\n",
    "  choice_strings: ABCDE\n",
    "\"\"\"\n",
    "\n",
    "    messages = [\n",
    "        {'role': 'system', 'content': system_message},\n",
    "        {'role': 'user', 'content': user_message}\n",
    "    ]\n",
    "\n",
    "    response = get_completion_from_messages(messages)\n",
    "    return response\n",
    "\n",
    "print(eval_vs_ideal(test_set_ideal, assistant_answer))\n",
    "\n",
    "assistant_answer_2 = \"Sorry, there aren't any good cities to watch NBA games...\"\n",
    "\n",
    "print(eval_vs_ideal(test_set_ideal, assistant_answer_2))"
   ]
  }
 ],
 "metadata": {
  "kernelspec": {
   "display_name": "Python 3 (ipykernel)",
   "language": "python",
   "name": "python3"
  },
  "language_info": {
   "codemirror_mode": {
    "name": "ipython",
    "version": 3
   },
   "file_extension": ".py",
   "mimetype": "text/x-python",
   "name": "python",
   "nbconvert_exporter": "python",
   "pygments_lexer": "ipython3",
   "version": "3.8.6"
  }
 },
 "nbformat": 4,
 "nbformat_minor": 2
}
