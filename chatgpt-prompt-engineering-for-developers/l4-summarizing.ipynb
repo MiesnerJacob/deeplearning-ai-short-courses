{
 "cells": [
  {
   "cell_type": "markdown",
   "metadata": {},
   "source": [
    "# Summarizing\n",
    "In this lesson, you will summarize text with a focus on specific topics.\n",
    "\n",
    "## Setup"
   ]
  },
  {
   "cell_type": "code",
   "execution_count": 127,
   "metadata": {},
   "outputs": [],
   "source": [
    "import openai\n",
    "import os\n",
    "\n",
    "from dotenv import load_dotenv, find_dotenv\n",
    "_ = load_dotenv(find_dotenv()) # read local .env file\n",
    "\n",
    "openai.api_key  = os.getenv('OPENAI_API_KEY')"
   ]
  },
  {
   "cell_type": "code",
   "execution_count": 128,
   "metadata": {},
   "outputs": [],
   "source": [
    "def get_completion(prompt, model=\"gpt-3.5-turbo\"): # Andrew mentioned that the prompt/ completion paradigm is preferable for this class\n",
    "    messages = [{\"role\": \"user\", \"content\": prompt}]\n",
    "    response = openai.ChatCompletion.create(\n",
    "        model=model,\n",
    "        messages=messages,\n",
    "        temperature=0, # this is the degree of randomness of the model's output\n",
    "    )\n",
    "    return response.choices[0].message[\"content\"]"
   ]
  },
  {
   "cell_type": "markdown",
   "metadata": {},
   "source": [
    "## Text to summarize"
   ]
  },
  {
   "cell_type": "code",
   "execution_count": 129,
   "metadata": {},
   "outputs": [],
   "source": [
    "prod_review = \"\"\"\n",
    "Got this panda plush toy for my daughter's birthday, \\\n",
    "who loves it and takes it everywhere. It's soft and \\ \n",
    "super cute, and its face has a friendly look. It's \\ \n",
    "a bit small for what I paid though. I think there \\ \n",
    "might be other options that are bigger for the \\ \n",
    "same price. It arrived a day earlier than expected, \\ \n",
    "so I got to play with it myself before I gave it \\ \n",
    "to her.\n",
    "\"\"\""
   ]
  },
  {
   "cell_type": "markdown",
   "metadata": {},
   "source": [
    "## Summarize with a word/sentence/character limit"
   ]
  },
  {
   "cell_type": "code",
   "execution_count": 130,
   "metadata": {},
   "outputs": [
    {
     "name": "stdout",
     "output_type": "stream",
     "text": [
      "This panda plush toy is loved by the reviewer's daughter, but they feel it is a bit small for the price.\n"
     ]
    }
   ],
   "source": [
    "prompt = f\"\"\"\n",
    "Your task is to generate a short summary of a product \\\n",
    "review from an ecommerce site. \n",
    "\n",
    "Summarize the review below, delimited by triple \n",
    "backticks, in at most 30 words. \n",
    "\n",
    "Review: ```{prod_review}```\n",
    "\"\"\"\n",
    "\n",
    "response = get_completion(prompt)\n",
    "print(response)\n"
   ]
  },
  {
   "cell_type": "markdown",
   "metadata": {},
   "source": [
    "## Summarize with a focus on shipping and delivery"
   ]
  },
  {
   "cell_type": "code",
   "execution_count": 131,
   "metadata": {},
   "outputs": [
    {
     "name": "stdout",
     "output_type": "stream",
     "text": [
      "The customer is happy with the product but suggests offering larger options for the same price. They also mention that the item arrived earlier than expected.\n"
     ]
    }
   ],
   "source": [
    "prompt = f\"\"\"\n",
    "Your task is to generate a short summary of a product \\\n",
    "review from an ecommerce site to give feedback to the \\\n",
    "Shipping deparmtment. \n",
    "\n",
    "Summarize the review below, delimited by triple \n",
    "backticks, in at most 30 words, and focusing on any aspects \\\n",
    "that mention shipping and delivery of the product. \n",
    "\n",
    "Review: ```{prod_review}```\n",
    "\"\"\"\n",
    "\n",
    "response = get_completion(prompt)\n",
    "print(response)\n"
   ]
  },
  {
   "cell_type": "markdown",
   "metadata": {},
   "source": [
    "## Summarize with a focus on price and value"
   ]
  },
  {
   "cell_type": "code",
   "execution_count": 132,
   "metadata": {},
   "outputs": [
    {
     "name": "stdout",
     "output_type": "stream",
     "text": [
      "The customer loves the panda plush toy for its softness and cuteness, but feels it is overpriced compared to other options available.\n"
     ]
    }
   ],
   "source": [
    "prompt = f\"\"\"\n",
    "Your task is to generate a short summary of a product \\\n",
    "review from an ecommerce site to give feedback to the \\\n",
    "pricing deparmtment, responsible for determining the \\\n",
    "price of the product.  \n",
    "\n",
    "Summarize the review below, delimited by triple \n",
    "backticks, in at most 30 words, and focusing on any aspects \\\n",
    "that are relevant to the price and perceived value. \n",
    "\n",
    "Review: ```{prod_review}```\n",
    "\"\"\"\n",
    "\n",
    "response = get_completion(prompt)\n",
    "print(response)\n"
   ]
  },
  {
   "cell_type": "markdown",
   "metadata": {},
   "source": [
    "#### Comment\n",
    "- Summaries include topics that are not related to the topic of focus."
   ]
  },
  {
   "cell_type": "markdown",
   "metadata": {},
   "source": [
    "## Try \"extract\" instead of \"summarize\""
   ]
  },
  {
   "cell_type": "code",
   "execution_count": 133,
   "metadata": {},
   "outputs": [
    {
     "name": "stdout",
     "output_type": "stream",
     "text": [
      "The shipping department should take note that the product arrived a day earlier than expected.\n"
     ]
    }
   ],
   "source": [
    "prompt = f\"\"\"\n",
    "Your task is to extract relevant information from \\ \n",
    "a product review from an ecommerce site to give \\\n",
    "feedback to the Shipping department. \n",
    "\n",
    "From the review below, delimited by triple quotes \\\n",
    "extract the information relevant to shipping and \\ \n",
    "delivery. Limit to 30 words. \n",
    "\n",
    "Review: ```{prod_review}```\n",
    "\"\"\"\n",
    "\n",
    "response = get_completion(prompt)\n",
    "print(response)"
   ]
  },
  {
   "cell_type": "markdown",
   "metadata": {},
   "source": [
    "## Summarize multiple product reviews"
   ]
  },
  {
   "cell_type": "code",
   "execution_count": 134,
   "metadata": {},
   "outputs": [],
   "source": [
    "\n",
    "review_1 = prod_review \n",
    "\n",
    "# review for a standing lamp\n",
    "review_2 = \"\"\"\n",
    "Needed a nice lamp for my bedroom, and this one \\\n",
    "had additional storage and not too high of a price \\\n",
    "point. Got it fast - arrived in 2 days. The string \\\n",
    "to the lamp broke during the transit and the company \\\n",
    "happily sent over a new one. Came within a few days \\\n",
    "as well. It was easy to put together. Then I had a \\\n",
    "missing part, so I contacted their support and they \\\n",
    "very quickly got me the missing piece! Seems to me \\\n",
    "to be a great company that cares about their customers \\\n",
    "and products. \n",
    "\"\"\"\n",
    "\n",
    "# review for an electric toothbrush\n",
    "review_3 = \"\"\"\n",
    "My dental hygienist recommended an electric toothbrush, \\\n",
    "which is why I got this. The battery life seems to be \\\n",
    "pretty impressive so far. After initial charging and \\\n",
    "leaving the charger plugged in for the first week to \\\n",
    "condition the battery, I've unplugged the charger and \\\n",
    "been using it for twice daily brushing for the last \\\n",
    "3 weeks all on the same charge. But the toothbrush head \\\n",
    "is too small. I’ve seen baby toothbrushes bigger than \\\n",
    "this one. I wish the head was bigger with different \\\n",
    "length bristles to get between teeth better because \\\n",
    "this one doesn’t.  Overall if you can get this one \\\n",
    "around the $50 mark, it's a good deal. The manufactuer's \\\n",
    "replacements heads are pretty expensive, but you can \\\n",
    "get generic ones that're more reasonably priced. This \\\n",
    "toothbrush makes me feel like I've been to the dentist \\\n",
    "every day. My teeth feel sparkly clean! \n",
    "\"\"\"\n",
    "\n",
    "# review for a blender\n",
    "review_4 = \"\"\"\n",
    "So, they still had the 17 piece system on seasonal \\\n",
    "sale for around $49 in the month of November, about \\\n",
    "half off, but for some reason (call it price gouging) \\\n",
    "around the second week of December the prices all went \\\n",
    "up to about anywhere from between $70-$89 for the same \\\n",
    "system. And the 11 piece system went up around $10 or \\\n",
    "so in price also from the earlier sale price of $29. \\\n",
    "So it looks okay, but if you look at the base, the part \\\n",
    "where the blade locks into place doesn’t look as good \\\n",
    "as in previous editions from a few years ago, but I \\\n",
    "plan to be very gentle with it (example, I crush \\\n",
    "very hard items like beans, ice, rice, etc. in the \\ \n",
    "blender first then pulverize them in the serving size \\\n",
    "I want in the blender then switch to the whipping \\\n",
    "blade for a finer flour, and use the cross cutting blade \\\n",
    "first when making smoothies, then use the flat blade \\\n",
    "if I need them finer/less pulpy). Special tip when making \\\n",
    "smoothies, finely cut and freeze the fruits and \\\n",
    "vegetables (if using spinach-lightly stew soften the \\ \n",
    "spinach then freeze until ready for use-and if making \\\n",
    "sorbet, use a small to medium sized food processor) \\ \n",
    "that you plan to use that way you can avoid adding so \\\n",
    "much ice if at all-when making your smoothie. \\\n",
    "After about a year, the motor was making a funny noise. \\\n",
    "I called customer service but the warranty expired \\\n",
    "already, so I had to buy another one. FYI: The overall \\\n",
    "quality has gone done in these types of products, so \\\n",
    "they are kind of counting on brand recognition and \\\n",
    "consumer loyalty to maintain sales. Got it in about \\\n",
    "two days.\n",
    "\"\"\"\n",
    "\n",
    "reviews = [review_1, review_2, review_3, review_4]\n",
    "\n"
   ]
  },
  {
   "cell_type": "code",
   "execution_count": 135,
   "metadata": {},
   "outputs": [
    {
     "name": "stdout",
     "output_type": "stream",
     "text": [
      "0 Panda plush toy is loved by daughter, soft and cute, but small for the price. Arrived early. \n",
      "\n",
      "1 Great lamp with storage, fast delivery, excellent customer service, and easy assembly. Highly recommended. \n",
      "\n",
      "2 The reviewer recommends the electric toothbrush for its impressive battery life, but criticizes the small brush head. \n",
      "\n",
      "3 The reviewer found the price increase after the sale disappointing and noticed a decrease in quality. \n",
      "\n"
     ]
    }
   ],
   "source": [
    "for i in range(len(reviews)):\n",
    "    prompt = f\"\"\"\n",
    "    Your task is to generate a short summary of a product \\ \n",
    "    review from an ecommerce site. \n",
    "\n",
    "    Summarize the review below, delimited by triple \\\n",
    "    backticks in at most 20 words. \n",
    "\n",
    "    Review: ```{reviews[i]}```\n",
    "    \"\"\"\n",
    "\n",
    "    response = get_completion(prompt)\n",
    "    print(i, response, \"\\n\")\n"
   ]
  },
  {
   "cell_type": "markdown",
   "metadata": {},
   "source": [
    "## Try experimenting on your own!"
   ]
  },
  {
   "cell_type": "code",
   "execution_count": 136,
   "metadata": {},
   "outputs": [],
   "source": [
    "# Text to summarize\n",
    "venue_review = \"\"\"\n",
    "Madison Square Garden, affectionately known as \"The Garden,\" is a \\\n",
    "world-renowned multi-purpose indoor arena situated in the heart of \\\n",
    "Manhattan, New York City. Opened in February 1968, it stands as the \\\n",
    "oldest major sporting facility in the New York metropolitan area and \\\n",
    "one of the busiest arenas in the world. Famed for its iconic circular \\\n",
    "design and central location atop Pennsylvania Station, Madison Square \\\n",
    "Garden is a symbol of the city's vibrant cultural scene. It has \\\n",
    "hosted a myriad of events, from legendary boxing matches and historic \\\n",
    "concerts to major sporting events like the annual Westminster Kennel \\\n",
    "Club Dog Show and games of the New York Knicks (NBA) and New York Rangers \\\n",
    "(NHL). Beyond sports and entertainment, The Garden has also been a stage \\\n",
    "for significant political and cultural gatherings, solidifying its status \\\n",
    "as an iconic hub of New York City's rich and diverse history.\n",
    "\"\"\""
   ]
  },
  {
   "cell_type": "code",
   "execution_count": 137,
   "metadata": {},
   "outputs": [
    {
     "name": "stdout",
     "output_type": "stream",
     "text": [
      "Madison Square Garden is a world-renowned multi-purpose indoor arena in Manhattan, New York City, known for its iconic circular design and central location. It has hosted a wide range of events, including sports games, concerts, and political gatherings, making it a symbol of the city's vibrant cultural scene.\n"
     ]
    }
   ],
   "source": [
    "# Summarize with a word/sentence/character limit\n",
    "prompt = f\"\"\"\n",
    "Your task is to generate a short summary of a venue \\\n",
    "description from the internet. \n",
    "\n",
    "Summarize the description below, delimited by triple \n",
    "backticks, in at most 2 sentences. \n",
    "\n",
    "Review: ```{venue_review}```\n",
    "\"\"\"\n",
    "\n",
    "response = get_completion(prompt)\n",
    "print(response)"
   ]
  },
  {
   "cell_type": "code",
   "execution_count": 138,
   "metadata": {},
   "outputs": [
    {
     "name": "stdout",
     "output_type": "stream",
     "text": [
      "Madison Square Garden is a historic and iconic multi-purpose indoor arena in New York City, known for hosting major sporting events such as NBA and NHL games, as well as cultural gatherings and concerts.\n"
     ]
    }
   ],
   "source": [
    "# Summarize with a focus on sports\n",
    "prompt = f\"\"\"\n",
    "Your task is to generate a short summary of a venue \\\n",
    "description from the internet. \n",
    "\n",
    "Summarize the description below, delimited by triple \n",
    "backticks, in at most 2 sentences, and focusing on the \\\n",
    "sporting aspects of the venue.\n",
    "\n",
    "Review: ```{venue_review}```\n",
    "\"\"\"\n",
    "\n",
    "response = get_completion(prompt)\n",
    "print(response)\n"
   ]
  },
  {
   "cell_type": "code",
   "execution_count": 139,
   "metadata": {},
   "outputs": [
    {
     "name": "stdout",
     "output_type": "stream",
     "text": [
      "Madison Square Garden, located in the heart of Manhattan, New York City, is a world-renowned multi-purpose indoor arena that symbolizes the city's vibrant cultural scene. It has hosted a wide range of events, from legendary boxing matches and historic concerts to major sporting events, making it an iconic hub of the city's rich and diverse history.\n"
     ]
    }
   ],
   "source": [
    "# Summarize with a focus on city\n",
    "prompt = f\"\"\"\n",
    "Your task is to generate a short summary of a venue \\\n",
    "description from the internet. \n",
    "\n",
    "Summarize the description below, delimited by triple \n",
    "backticks, in at most 2 sentences, and focusing on the \\\n",
    "city that the venue resides in and its culture.\n",
    "\n",
    "Review: ```{venue_review}```\n",
    "\"\"\"\n",
    "\n",
    "response = get_completion(prompt)\n",
    "print(response)\n"
   ]
  },
  {
   "cell_type": "code",
   "execution_count": 140,
   "metadata": {},
   "outputs": [
    {
     "name": "stdout",
     "output_type": "stream",
     "text": [
      "Madison Square Garden is a historic and iconic venue in the heart of Manhattan, New York City. It is known for its circular design, central location, and vibrant cultural scene. The venue has hosted a wide range of events, including sports games, concerts, political gatherings, and cultural events, making it an important part of New York City's history.\n"
     ]
    }
   ],
   "source": [
    "# Try \"extract\" instead of \"summarize\"\n",
    "prompt = f\"\"\"\n",
    "Your task is to extract relevant information from a venue \\\n",
    "description from the internet to give feedback \\\n",
    "to the owner of the venue\n",
    "\n",
    "Summarize the description below, delimited by triple \n",
    "backticks, in at most 3 sentences, and focusing on the \\\n",
    "venue experience.\n",
    "\n",
    "Review: ```{venue_review}```\n",
    "\"\"\"\n",
    "\n",
    "response = get_completion(prompt)\n",
    "print(response)"
   ]
  },
  {
   "cell_type": "code",
   "execution_count": 141,
   "metadata": {},
   "outputs": [
    {
     "name": "stdout",
     "output_type": "stream",
     "text": [
      "0 The reviewer purchased a panda plush toy for their daughter's birthday and found it to be soft, cute, and well-received. However, they felt it was slightly small for the price and mentioned that there may be larger options available for the same cost. \n",
      "\n",
      "1 Petco Park is an open-air ballpark in downtown San Diego known for its stunning views and innovative design. It is the home of the San Diego Padres and also hosts various events, making it a pivotal element of the city's cultural and entertainment landscape. \n",
      "\n",
      "2 Crypto.com Arena, formerly known as Staples Center, is a renowned multi-purpose arena in downtown Los Angeles. It is home to several professional sports teams and has hosted numerous high-profile events, making it a prominent landmark in the city's cultural scene. \n",
      "\n",
      "3 EverBank Field, now known as TIAA Bank Field, is a football stadium in Jacksonville, Florida. It offers a unique fan experience with large video scoreboards, swimming pools, and cabana-style seating, and has hosted various events including college football games, soccer matches, concerts, and the annual Florida-Georgia game. \n",
      "\n"
     ]
    }
   ],
   "source": [
    "# Summarize multiple product reviews\n",
    "review_1 = prod_review \n",
    "\n",
    "# review for a standing lamp\n",
    "review_2 = \"\"\"\n",
    "\n",
    "Petco Park, located in the heart of downtown San Diego, California, \\\n",
    "is an open-air ballpark known for its stunning views of the city \\\n",
    "and San Diego Bay. Opened in April 2004, it is primarily the home \\\n",
    "of Major League Baseball's San Diego Padres. Renowned for its \\\n",
    "innovative design, which beautifully integrates the ballpark with \\\n",
    "San Diego's urban fabric, Petco Park offers a unique and intimate \\\n",
    "baseball experience. Its features include the Western Metal Supply \\\n",
    "Co. Building, a historic landmark that has been incorporated into \\\n",
    "the stadium's architecture, serving as seating and luxury suites. \\\n",
    "The park is not just a sports venue but a community gathering place, \\\n",
    "hosting various events including concerts, soccer games, and golf \\\n",
    "tournaments, making it a pivotal element of San Diego's cultural \\\n",
    "and entertainment landscape.\n",
    "\"\"\"\n",
    "\n",
    "# review for an electric toothbrush\n",
    "review_3 = \"\"\"\n",
    "Crypto.com Arena, formerly known as Staples Center, is a multi-purpose \\\n",
    "arena in downtown Los Angeles, California. Since its opening in October \\\n",
    "1999, it has become an iconic venue in the sports and entertainment \\\n",
    "world. As the home of the Los Angeles Lakers and Los Angeles Clippers of \\\n",
    "the NBA, the Los Angeles Kings of the NHL, and the Los Angeles Sparks of \\\n",
    "the WNBA, it's a hub of high-octane sporting action. The arena is famed \\\n",
    "for its state-of-the-art facilities and has hosted a plethora of \\\n",
    "high-profile events, including Grammy Awards, major concerts, boxing \\\n",
    "matches, and significant basketball and hockey games. Its versatile \\\n",
    "and cutting-edge design makes it a landmark not just for sports fans \\\n",
    "but also for music and entertainment enthusiasts, cementing its status \\\n",
    "as a centerpiece of Los Angeles' cultural scene.\n",
    "\"\"\"\n",
    "\n",
    "# review for a blender\n",
    "review_4 = \"\"\"\n",
    "EverBank Field, known as TIAA Bank Field since 2018, is a football \\\n",
    "stadium in Jacksonville, Florida. It opened in August 1995 and serves \\\n",
    "as the home of the NFL's Jacksonville Jaguars. Notable for its large \\\n",
    "video scoreboards, swimming pools, and cabana-style seating, the stadium \\\n",
    "offers a unique fan experience that reflects the regional culture and \\\n",
    "climate. EverBank Field is more than just a sports venue; it has hosted \\\n",
    "various events, including college football games, soccer matches, \\\n",
    "concerts, and the annual Florida-Georgia game, one of college football's \\\n",
    "most storied rivalries. The stadium's continuous upgrades and fan-friendly \\\n",
    "amenities, including the world's largest video boards, make it a modern \\\n",
    "and versatile venue, showcasing Jacksonville's commitment to sports and \\\n",
    "entertainment.\n",
    "\"\"\"\n",
    "\n",
    "reviews = [review_1, review_2, review_3, review_4]\n",
    "\n",
    "for i in range(len(reviews)):\n",
    "    prompt = f\"\"\"\n",
    "    Your task is to generate a short summary of a venue \\\n",
    "    description from the internet. \n",
    "\n",
    "    Summarize the description below, delimited by triple \n",
    "    backticks, in at most 2 sentences. `\n",
    "\n",
    "    Review: ```{reviews[i]}```\n",
    "    \"\"\"\n",
    "\n",
    "    response = get_completion(prompt)\n",
    "    print(i, response, \"\\n\")"
   ]
  }
 ],
 "metadata": {
  "kernelspec": {
   "display_name": "Python 3 (ipykernel)",
   "language": "python",
   "name": "python3"
  },
  "language_info": {
   "codemirror_mode": {
    "name": "ipython",
    "version": 3
   },
   "file_extension": ".py",
   "mimetype": "text/x-python",
   "name": "python",
   "nbconvert_exporter": "python",
   "pygments_lexer": "ipython3",
   "version": "3.8.6"
  }
 },
 "nbformat": 4,
 "nbformat_minor": 2
}
