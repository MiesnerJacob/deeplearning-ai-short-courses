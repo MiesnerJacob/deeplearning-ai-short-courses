{
 "cells": [
  {
   "cell_type": "markdown",
   "metadata": {},
   "source": [
    "# LangChain: Q&A over Documents\n",
    "\n",
    "An example might be a tool that would allow you to query a product catalog for items of interest."
   ]
  },
  {
   "cell_type": "code",
   "execution_count": 164,
   "metadata": {},
   "outputs": [
    {
     "name": "stdout",
     "output_type": "stream",
     "text": [
      "\u001b[33mWARNING: Ignoring invalid distribution - (/Users/miesner.jacob/.pyenv/versions/3.8.6/lib/python3.8/site-packages)\u001b[0m\u001b[33m\n",
      "\u001b[0m\u001b[33mWARNING: Ignoring invalid distribution -lack (/Users/miesner.jacob/.pyenv/versions/3.8.6/lib/python3.8/site-packages)\u001b[0m\u001b[33m\n",
      "\u001b[0m\u001b[33mWARNING: Ignoring invalid distribution -omli (/Users/miesner.jacob/.pyenv/versions/3.8.6/lib/python3.8/site-packages)\u001b[0m\u001b[33m\n",
      "\u001b[0m\u001b[33mWARNING: Ignoring invalid distribution -ypy-extensions (/Users/miesner.jacob/.pyenv/versions/3.8.6/lib/python3.8/site-packages)\u001b[0m\u001b[33m\n",
      "\u001b[0mCollecting langchain==0.0.179\n",
      "  Downloading langchain-0.0.179-py3-none-any.whl.metadata (12 kB)\n",
      "Requirement already satisfied: PyYAML>=5.4.1 in /Users/miesner.jacob/.pyenv/versions/3.8.6/lib/python3.8/site-packages (from langchain==0.0.179) (5.4.1)\n",
      "Requirement already satisfied: SQLAlchemy<3,>=1.4 in /Users/miesner.jacob/.pyenv/versions/3.8.6/lib/python3.8/site-packages (from langchain==0.0.179) (1.4.50)\n",
      "Requirement already satisfied: aiohttp<4.0.0,>=3.8.3 in /Users/miesner.jacob/.pyenv/versions/3.8.6/lib/python3.8/site-packages (from langchain==0.0.179) (3.8.4)\n",
      "Requirement already satisfied: async-timeout<5.0.0,>=4.0.0 in /Users/miesner.jacob/.pyenv/versions/3.8.6/lib/python3.8/site-packages (from langchain==0.0.179) (4.0.2)\n",
      "Requirement already satisfied: dataclasses-json<0.6.0,>=0.5.7 in /Users/miesner.jacob/.pyenv/versions/3.8.6/lib/python3.8/site-packages (from langchain==0.0.179) (0.5.7)\n",
      "Requirement already satisfied: numexpr<3.0.0,>=2.8.4 in /Users/miesner.jacob/.pyenv/versions/3.8.6/lib/python3.8/site-packages (from langchain==0.0.179) (2.8.4)\n",
      "Requirement already satisfied: numpy<2,>=1 in /Users/miesner.jacob/.pyenv/versions/3.8.6/lib/python3.8/site-packages (from langchain==0.0.179) (1.24.4)\n",
      "Requirement already satisfied: openapi-schema-pydantic<2.0,>=1.2 in /Users/miesner.jacob/.pyenv/versions/3.8.6/lib/python3.8/site-packages (from langchain==0.0.179) (1.2.4)\n",
      "Requirement already satisfied: pydantic<2,>=1 in /Users/miesner.jacob/.pyenv/versions/3.8.6/lib/python3.8/site-packages (from langchain==0.0.179) (1.10.13)\n",
      "Requirement already satisfied: requests<3,>=2 in /Users/miesner.jacob/.pyenv/versions/3.8.6/lib/python3.8/site-packages (from langchain==0.0.179) (2.31.0)\n",
      "Requirement already satisfied: tenacity<9.0.0,>=8.1.0 in /Users/miesner.jacob/.pyenv/versions/3.8.6/lib/python3.8/site-packages (from langchain==0.0.179) (8.2.2)\n",
      "Requirement already satisfied: attrs>=17.3.0 in /Users/miesner.jacob/.pyenv/versions/3.8.6/lib/python3.8/site-packages (from aiohttp<4.0.0,>=3.8.3->langchain==0.0.179) (23.2.0)\n",
      "Requirement already satisfied: charset-normalizer<4.0,>=2.0 in /Users/miesner.jacob/.pyenv/versions/3.8.6/lib/python3.8/site-packages (from aiohttp<4.0.0,>=3.8.3->langchain==0.0.179) (2.1.1)\n",
      "Requirement already satisfied: multidict<7.0,>=4.5 in /Users/miesner.jacob/.pyenv/versions/3.8.6/lib/python3.8/site-packages (from aiohttp<4.0.0,>=3.8.3->langchain==0.0.179) (6.0.2)\n",
      "Requirement already satisfied: yarl<2.0,>=1.0 in /Users/miesner.jacob/.pyenv/versions/3.8.6/lib/python3.8/site-packages (from aiohttp<4.0.0,>=3.8.3->langchain==0.0.179) (1.8.1)\n",
      "Requirement already satisfied: frozenlist>=1.1.1 in /Users/miesner.jacob/.pyenv/versions/3.8.6/lib/python3.8/site-packages (from aiohttp<4.0.0,>=3.8.3->langchain==0.0.179) (1.3.1)\n",
      "Requirement already satisfied: aiosignal>=1.1.2 in /Users/miesner.jacob/.pyenv/versions/3.8.6/lib/python3.8/site-packages (from aiohttp<4.0.0,>=3.8.3->langchain==0.0.179) (1.2.0)\n",
      "Requirement already satisfied: marshmallow<4.0.0,>=3.3.0 in /Users/miesner.jacob/.pyenv/versions/3.8.6/lib/python3.8/site-packages (from dataclasses-json<0.6.0,>=0.5.7->langchain==0.0.179) (3.19.0)\n",
      "Requirement already satisfied: marshmallow-enum<2.0.0,>=1.5.1 in /Users/miesner.jacob/.pyenv/versions/3.8.6/lib/python3.8/site-packages (from dataclasses-json<0.6.0,>=0.5.7->langchain==0.0.179) (1.5.1)\n",
      "Requirement already satisfied: typing-inspect>=0.4.0 in /Users/miesner.jacob/.pyenv/versions/3.8.6/lib/python3.8/site-packages (from dataclasses-json<0.6.0,>=0.5.7->langchain==0.0.179) (0.8.0)\n",
      "Requirement already satisfied: typing-extensions>=4.2.0 in /Users/miesner.jacob/.pyenv/versions/3.8.6/lib/python3.8/site-packages (from pydantic<2,>=1->langchain==0.0.179) (4.9.0)\n",
      "Requirement already satisfied: idna<4,>=2.5 in /Users/miesner.jacob/.pyenv/versions/3.8.6/lib/python3.8/site-packages (from requests<3,>=2->langchain==0.0.179) (2.10)\n",
      "Requirement already satisfied: urllib3<3,>=1.21.1 in /Users/miesner.jacob/.pyenv/versions/3.8.6/lib/python3.8/site-packages (from requests<3,>=2->langchain==0.0.179) (2.1.0)\n",
      "Requirement already satisfied: certifi>=2017.4.17 in /Users/miesner.jacob/.pyenv/versions/3.8.6/lib/python3.8/site-packages (from requests<3,>=2->langchain==0.0.179) (2020.12.5)\n",
      "Requirement already satisfied: greenlet!=0.4.17 in /Users/miesner.jacob/.pyenv/versions/3.8.6/lib/python3.8/site-packages (from SQLAlchemy<3,>=1.4->langchain==0.0.179) (1.1.3)\n",
      "Requirement already satisfied: packaging>=17.0 in /Users/miesner.jacob/.pyenv/versions/3.8.6/lib/python3.8/site-packages (from marshmallow<4.0.0,>=3.3.0->dataclasses-json<0.6.0,>=0.5.7->langchain==0.0.179) (23.1)\n",
      "Requirement already satisfied: mypy-extensions>=0.3.0 in /Users/miesner.jacob/.pyenv/versions/3.8.6/lib/python3.8/site-packages (from typing-inspect>=0.4.0->dataclasses-json<0.6.0,>=0.5.7->langchain==0.0.179) (0.4.3)\n",
      "Downloading langchain-0.0.179-py3-none-any.whl (907 kB)\n",
      "\u001b[2K   \u001b[90m━━━━━━━━━━━━━━━━━━━━━━━━━━━━━━━━━━━━━━━━\u001b[0m \u001b[32m907.7/907.7 kB\u001b[0m \u001b[31m9.8 MB/s\u001b[0m eta \u001b[36m0:00:00\u001b[0m:00:01\u001b[0m0:01\u001b[0m\n",
      "\u001b[?25h\u001b[33mWARNING: Ignoring invalid distribution - (/Users/miesner.jacob/.pyenv/versions/3.8.6/lib/python3.8/site-packages)\u001b[0m\u001b[33m\n",
      "\u001b[0m\u001b[33mWARNING: Ignoring invalid distribution -lack (/Users/miesner.jacob/.pyenv/versions/3.8.6/lib/python3.8/site-packages)\u001b[0m\u001b[33m\n",
      "\u001b[0m\u001b[33mWARNING: Ignoring invalid distribution -omli (/Users/miesner.jacob/.pyenv/versions/3.8.6/lib/python3.8/site-packages)\u001b[0m\u001b[33m\n",
      "\u001b[0m\u001b[33mWARNING: Ignoring invalid distribution -ypy-extensions (/Users/miesner.jacob/.pyenv/versions/3.8.6/lib/python3.8/site-packages)\u001b[0m\u001b[33m\n",
      "\u001b[0m\u001b[33mDEPRECATION: bert-score 0.3.11 has a non-standard dependency specifier transformers>=3.0.0numpy. pip 24.0 will enforce this behaviour change. A possible replacement is to upgrade to a newer version of bert-score or contact the author to suggest that they release a version with a conforming dependency specifiers. Discussion can be found at https://github.com/pypa/pip/issues/12063\u001b[0m\u001b[33m\n",
      "\u001b[0m\u001b[33mDEPRECATION: pytorch-lightning 1.5.10 has a non-standard dependency specifier torch>=1.7.*. pip 24.0 will enforce this behaviour change. A possible replacement is to upgrade to a newer version of pytorch-lightning or contact the author to suggest that they release a version with a conforming dependency specifiers. Discussion can be found at https://github.com/pypa/pip/issues/12063\u001b[0m\u001b[33m\n",
      "\u001b[0mInstalling collected packages: langchain\n",
      "  Attempting uninstall: langchain\n",
      "    Found existing installation: langchain 0.0.337\n",
      "    Uninstalling langchain-0.0.337:\n",
      "      Successfully uninstalled langchain-0.0.337\n",
      "\u001b[31mERROR: pip's dependency resolver does not currently take into account all the packages that are installed. This behaviour is the source of the following dependency conflicts.\n",
      "embedchain 0.0.9 requires langchain>=0.0.205, but you have langchain 0.0.179 which is incompatible.\n",
      "metagpt 0.1 requires duckduckgo_search==2.9.4, but you have duckduckgo-search 3.8.3 which is incompatible.\n",
      "metagpt 0.1 requires langchain==0.0.231, but you have langchain 0.0.179 which is incompatible.\n",
      "metagpt 0.1 requires numpy==1.24.3, but you have numpy 1.24.4 which is incompatible.\n",
      "metagpt 0.1 requires openai==0.27.8, but you have openai 0.27.4 which is incompatible.\n",
      "metagpt 0.1 requires pandas==1.4.1, but you have pandas 1.2.5 which is incompatible.\n",
      "metagpt 0.1 requires pydantic==1.10.7, but you have pydantic 1.10.13 which is incompatible.\n",
      "metagpt 0.1 requires pytest==7.2.2, but you have pytest 7.4.0 which is incompatible.\n",
      "metagpt 0.1 requires PyYAML==6.0, but you have pyyaml 5.4.1 which is incompatible.\n",
      "metagpt 0.1 requires setuptools==65.6.3, but you have setuptools 59.5.0 which is incompatible.\n",
      "metagpt 0.1 requires tqdm==4.64.0, but you have tqdm 4.66.1 which is incompatible.\n",
      "metagpt 0.1 requires typing_extensions==4.5.0, but you have typing-extensions 4.9.0 which is incompatible.\u001b[0m\u001b[31m\n",
      "\u001b[0mSuccessfully installed langchain-0.0.179\n",
      "\u001b[33mWARNING: Ignoring invalid distribution - (/Users/miesner.jacob/.pyenv/versions/3.8.6/lib/python3.8/site-packages)\u001b[0m\u001b[33m\n",
      "\u001b[0m\u001b[33mWARNING: Ignoring invalid distribution -lack (/Users/miesner.jacob/.pyenv/versions/3.8.6/lib/python3.8/site-packages)\u001b[0m\u001b[33m\n",
      "\u001b[0m\u001b[33mWARNING: Ignoring invalid distribution -omli (/Users/miesner.jacob/.pyenv/versions/3.8.6/lib/python3.8/site-packages)\u001b[0m\u001b[33m\n",
      "\u001b[0m\u001b[33mWARNING: Ignoring invalid distribution -ypy-extensions (/Users/miesner.jacob/.pyenv/versions/3.8.6/lib/python3.8/site-packages)\u001b[0m\u001b[33m\n",
      "\u001b[0mCollecting openai==0.27.7\n",
      "  Downloading openai-0.27.7-py3-none-any.whl.metadata (13 kB)\n",
      "Requirement already satisfied: requests>=2.20 in /Users/miesner.jacob/.pyenv/versions/3.8.6/lib/python3.8/site-packages (from openai==0.27.7) (2.31.0)\n",
      "Requirement already satisfied: tqdm in /Users/miesner.jacob/.pyenv/versions/3.8.6/lib/python3.8/site-packages (from openai==0.27.7) (4.66.1)\n",
      "Requirement already satisfied: aiohttp in /Users/miesner.jacob/.pyenv/versions/3.8.6/lib/python3.8/site-packages (from openai==0.27.7) (3.8.4)\n",
      "Requirement already satisfied: charset-normalizer<4,>=2 in /Users/miesner.jacob/.pyenv/versions/3.8.6/lib/python3.8/site-packages (from requests>=2.20->openai==0.27.7) (2.1.1)\n",
      "Requirement already satisfied: idna<4,>=2.5 in /Users/miesner.jacob/.pyenv/versions/3.8.6/lib/python3.8/site-packages (from requests>=2.20->openai==0.27.7) (2.10)\n",
      "Requirement already satisfied: urllib3<3,>=1.21.1 in /Users/miesner.jacob/.pyenv/versions/3.8.6/lib/python3.8/site-packages (from requests>=2.20->openai==0.27.7) (2.1.0)\n",
      "Requirement already satisfied: certifi>=2017.4.17 in /Users/miesner.jacob/.pyenv/versions/3.8.6/lib/python3.8/site-packages (from requests>=2.20->openai==0.27.7) (2020.12.5)\n",
      "Requirement already satisfied: attrs>=17.3.0 in /Users/miesner.jacob/.pyenv/versions/3.8.6/lib/python3.8/site-packages (from aiohttp->openai==0.27.7) (23.2.0)\n",
      "Requirement already satisfied: multidict<7.0,>=4.5 in /Users/miesner.jacob/.pyenv/versions/3.8.6/lib/python3.8/site-packages (from aiohttp->openai==0.27.7) (6.0.2)\n",
      "Requirement already satisfied: async-timeout<5.0,>=4.0.0a3 in /Users/miesner.jacob/.pyenv/versions/3.8.6/lib/python3.8/site-packages (from aiohttp->openai==0.27.7) (4.0.2)\n",
      "Requirement already satisfied: yarl<2.0,>=1.0 in /Users/miesner.jacob/.pyenv/versions/3.8.6/lib/python3.8/site-packages (from aiohttp->openai==0.27.7) (1.8.1)\n",
      "Requirement already satisfied: frozenlist>=1.1.1 in /Users/miesner.jacob/.pyenv/versions/3.8.6/lib/python3.8/site-packages (from aiohttp->openai==0.27.7) (1.3.1)\n",
      "Requirement already satisfied: aiosignal>=1.1.2 in /Users/miesner.jacob/.pyenv/versions/3.8.6/lib/python3.8/site-packages (from aiohttp->openai==0.27.7) (1.2.0)\n",
      "Downloading openai-0.27.7-py3-none-any.whl (71 kB)\n",
      "\u001b[2K   \u001b[90m━━━━━━━━━━━━━━━━━━━━━━━━━━━━━━━━━━━━━━━━\u001b[0m \u001b[32m72.0/72.0 kB\u001b[0m \u001b[31m1.4 MB/s\u001b[0m eta \u001b[36m0:00:00\u001b[0m00:01\u001b[0m\n",
      "\u001b[?25h\u001b[33mWARNING: Ignoring invalid distribution - (/Users/miesner.jacob/.pyenv/versions/3.8.6/lib/python3.8/site-packages)\u001b[0m\u001b[33m\n",
      "\u001b[0m\u001b[33mWARNING: Ignoring invalid distribution -lack (/Users/miesner.jacob/.pyenv/versions/3.8.6/lib/python3.8/site-packages)\u001b[0m\u001b[33m\n",
      "\u001b[0m\u001b[33mWARNING: Ignoring invalid distribution -omli (/Users/miesner.jacob/.pyenv/versions/3.8.6/lib/python3.8/site-packages)\u001b[0m\u001b[33m\n",
      "\u001b[0m\u001b[33mWARNING: Ignoring invalid distribution -ypy-extensions (/Users/miesner.jacob/.pyenv/versions/3.8.6/lib/python3.8/site-packages)\u001b[0m\u001b[33m\n",
      "\u001b[0m\u001b[33mDEPRECATION: bert-score 0.3.11 has a non-standard dependency specifier transformers>=3.0.0numpy. pip 24.0 will enforce this behaviour change. A possible replacement is to upgrade to a newer version of bert-score or contact the author to suggest that they release a version with a conforming dependency specifiers. Discussion can be found at https://github.com/pypa/pip/issues/12063\u001b[0m\u001b[33m\n",
      "\u001b[0m\u001b[33mDEPRECATION: pytorch-lightning 1.5.10 has a non-standard dependency specifier torch>=1.7.*. pip 24.0 will enforce this behaviour change. A possible replacement is to upgrade to a newer version of pytorch-lightning or contact the author to suggest that they release a version with a conforming dependency specifiers. Discussion can be found at https://github.com/pypa/pip/issues/12063\u001b[0m\u001b[33m\n",
      "\u001b[0mInstalling collected packages: openai\n",
      "  Attempting uninstall: openai\n",
      "    Found existing installation: openai 0.27.4\n",
      "    Uninstalling openai-0.27.4:\n",
      "      Successfully uninstalled openai-0.27.4\n",
      "\u001b[31mERROR: pip's dependency resolver does not currently take into account all the packages that are installed. This behaviour is the source of the following dependency conflicts.\n",
      "embedchain 0.0.9 requires langchain>=0.0.205, but you have langchain 0.0.179 which is incompatible.\n",
      "metagpt 0.1 requires duckduckgo_search==2.9.4, but you have duckduckgo-search 3.8.3 which is incompatible.\n",
      "metagpt 0.1 requires langchain==0.0.231, but you have langchain 0.0.179 which is incompatible.\n",
      "metagpt 0.1 requires numpy==1.24.3, but you have numpy 1.24.4 which is incompatible.\n",
      "metagpt 0.1 requires openai==0.27.8, but you have openai 0.27.7 which is incompatible.\n",
      "metagpt 0.1 requires pandas==1.4.1, but you have pandas 1.2.5 which is incompatible.\n",
      "metagpt 0.1 requires pydantic==1.10.7, but you have pydantic 1.10.13 which is incompatible.\n",
      "metagpt 0.1 requires pytest==7.2.2, but you have pytest 7.4.0 which is incompatible.\n",
      "metagpt 0.1 requires PyYAML==6.0, but you have pyyaml 5.4.1 which is incompatible.\n",
      "metagpt 0.1 requires setuptools==65.6.3, but you have setuptools 59.5.0 which is incompatible.\n",
      "metagpt 0.1 requires tqdm==4.64.0, but you have tqdm 4.66.1 which is incompatible.\n",
      "metagpt 0.1 requires typing_extensions==4.5.0, but you have typing-extensions 4.9.0 which is incompatible.\u001b[0m\u001b[31m\n",
      "\u001b[0mSuccessfully installed openai-0.27.7\n"
     ]
    }
   ],
   "source": [
    "# !pip install langchain==0.0.179\n",
    "# !pip install openai==0.27.7"
   ]
  },
  {
   "cell_type": "code",
   "execution_count": 165,
   "metadata": {},
   "outputs": [],
   "source": [
    "import os\n",
    "\n",
    "from dotenv import load_dotenv, find_dotenv\n",
    "_ = load_dotenv(find_dotenv()) # read local .env file"
   ]
  },
  {
   "cell_type": "code",
   "execution_count": 166,
   "metadata": {},
   "outputs": [],
   "source": [
    "llm_model = \"gpt-3.5-turbo\""
   ]
  },
  {
   "cell_type": "code",
   "execution_count": 167,
   "metadata": {},
   "outputs": [],
   "source": [
    "from langchain.chains import RetrievalQA\n",
    "from langchain.chat_models import ChatOpenAI\n",
    "from langchain.document_loaders import CSVLoader\n",
    "from langchain.vectorstores import DocArrayInMemorySearch\n",
    "from IPython.display import display, Markdown\n",
    "from langchain.llms import OpenAI"
   ]
  },
  {
   "cell_type": "code",
   "execution_count": 168,
   "metadata": {},
   "outputs": [],
   "source": [
    "file = 'qa_clothing_dataset.csv'\n",
    "loader = CSVLoader(file_path=file)"
   ]
  },
  {
   "cell_type": "code",
   "execution_count": 169,
   "metadata": {},
   "outputs": [],
   "source": [
    "from langchain.indexes import VectorstoreIndexCreator"
   ]
  },
  {
   "cell_type": "code",
   "execution_count": 170,
   "metadata": {},
   "outputs": [
    {
     "ename": "ValidationError",
     "evalue": "1 validation error for VectorstoreIndexCreator\nvectorstore_cls\n  subclass of VectorStore expected (type=type_error.subclass; expected_class=VectorStore)",
     "output_type": "error",
     "traceback": [
      "\u001b[0;31m---------------------------------------------------------------------------\u001b[0m",
      "\u001b[0;31mValidationError\u001b[0m                           Traceback (most recent call last)",
      "Cell \u001b[0;32mIn[170], line 1\u001b[0m\n\u001b[0;32m----> 1\u001b[0m index \u001b[38;5;241m=\u001b[39m \u001b[43mVectorstoreIndexCreator\u001b[49m\u001b[43m(\u001b[49m\n\u001b[1;32m      2\u001b[0m \u001b[43m    \u001b[49m\u001b[43mvectorstore_cls\u001b[49m\u001b[38;5;241;43m=\u001b[39;49m\u001b[43mDocArrayInMemorySearch\u001b[49m\n\u001b[1;32m      3\u001b[0m \u001b[43m)\u001b[49m\u001b[38;5;241m.\u001b[39mfrom_loaders([loader])\n",
      "File \u001b[0;32m~/.pyenv/versions/3.8.6/lib/python3.8/site-packages/pydantic/main.py:341\u001b[0m, in \u001b[0;36mpydantic.main.BaseModel.__init__\u001b[0;34m()\u001b[0m\n",
      "\u001b[0;31mValidationError\u001b[0m: 1 validation error for VectorstoreIndexCreator\nvectorstore_cls\n  subclass of VectorStore expected (type=type_error.subclass; expected_class=VectorStore)"
     ]
    }
   ],
   "source": [
    "index = VectorstoreIndexCreator(\n",
    "    vectorstore_cls=DocArrayInMemorySearch\n",
    ").from_loaders([loader])"
   ]
  },
  {
   "cell_type": "code",
   "execution_count": null,
   "metadata": {},
   "outputs": [],
   "source": [
    "query =\"Please list all your shirts with sun protection \\\n",
    "in a table in markdown and summarize each one.\""
   ]
  },
  {
   "cell_type": "code",
   "execution_count": null,
   "metadata": {},
   "outputs": [],
   "source": [
    "llm_replacement_model = OpenAI(temperature=0, \n",
    "                               model='gpt-3.5-turbo-instruct')\n",
    "\n",
    "response = index.query(query, \n",
    "                       llm = llm_replacement_model)"
   ]
  },
  {
   "cell_type": "code",
   "execution_count": null,
   "metadata": {},
   "outputs": [],
   "source": [
    "display(Markdown(response))"
   ]
  },
  {
   "cell_type": "markdown",
   "metadata": {},
   "source": [
    "## Step By Step"
   ]
  },
  {
   "cell_type": "code",
   "execution_count": null,
   "metadata": {},
   "outputs": [],
   "source": [
    "from langchain.document_loaders import CSVLoader\n",
    "loader = CSVLoader(file_path=file)"
   ]
  },
  {
   "cell_type": "code",
   "execution_count": null,
   "metadata": {},
   "outputs": [],
   "source": [
    "docs = loader.load()"
   ]
  },
  {
   "cell_type": "code",
   "execution_count": null,
   "metadata": {},
   "outputs": [],
   "source": [
    "docs[0]"
   ]
  },
  {
   "cell_type": "code",
   "execution_count": null,
   "metadata": {},
   "outputs": [],
   "source": [
    "from langchain.embeddings import OpenAIEmbeddings\n",
    "embeddings = OpenAIEmbeddings()"
   ]
  },
  {
   "cell_type": "code",
   "execution_count": null,
   "metadata": {},
   "outputs": [],
   "source": [
    "embed = embeddings.embed_query(\"Hi my name is Harrison\")"
   ]
  },
  {
   "cell_type": "code",
   "execution_count": null,
   "metadata": {},
   "outputs": [],
   "source": [
    "print(len(embed))"
   ]
  },
  {
   "cell_type": "code",
   "execution_count": null,
   "metadata": {},
   "outputs": [],
   "source": [
    "print(embed[:5])"
   ]
  },
  {
   "cell_type": "code",
   "execution_count": null,
   "metadata": {},
   "outputs": [],
   "source": [
    "db = DocArrayInMemorySearch.from_documents(\n",
    "    docs, \n",
    "    embeddings\n",
    ")"
   ]
  },
  {
   "cell_type": "code",
   "execution_count": null,
   "metadata": {},
   "outputs": [],
   "source": [
    "query = \"Please suggest a shirt with sunblocking\""
   ]
  },
  {
   "cell_type": "code",
   "execution_count": null,
   "metadata": {},
   "outputs": [],
   "source": [
    "docs = db.similarity_search(query)"
   ]
  },
  {
   "cell_type": "code",
   "execution_count": null,
   "metadata": {},
   "outputs": [],
   "source": [
    "len(docs)"
   ]
  },
  {
   "cell_type": "code",
   "execution_count": null,
   "metadata": {},
   "outputs": [],
   "source": [
    "docs[0]"
   ]
  },
  {
   "cell_type": "code",
   "execution_count": null,
   "metadata": {},
   "outputs": [],
   "source": [
    "retriever = db.as_retriever()"
   ]
  },
  {
   "cell_type": "code",
   "execution_count": null,
   "metadata": {},
   "outputs": [],
   "source": [
    "llm = ChatOpenAI(temperature = 0.0, model=llm_model)"
   ]
  },
  {
   "cell_type": "code",
   "execution_count": null,
   "metadata": {},
   "outputs": [],
   "source": [
    "qdocs = \"\".join([docs[i].page_content for i in range(len(docs))])\n"
   ]
  },
  {
   "cell_type": "code",
   "execution_count": null,
   "metadata": {},
   "outputs": [],
   "source": [
    "response = llm.call_as_llm(f\"{qdocs} Question: Please list all your \\\n",
    "shirts with sun protection in a table in markdown and summarize each one.\") \n"
   ]
  },
  {
   "cell_type": "code",
   "execution_count": null,
   "metadata": {},
   "outputs": [],
   "source": [
    "display(Markdown(response))"
   ]
  },
  {
   "cell_type": "code",
   "execution_count": null,
   "metadata": {},
   "outputs": [],
   "source": [
    "qa_stuff = RetrievalQA.from_chain_type(\n",
    "    llm=llm, \n",
    "    chain_type=\"stuff\", \n",
    "    retriever=retriever, \n",
    "    verbose=True\n",
    ")"
   ]
  },
  {
   "cell_type": "code",
   "execution_count": null,
   "metadata": {},
   "outputs": [],
   "source": [
    "query =  \"Please list all your shirts with sun protection in a table \\\n",
    "in markdown and summarize each one.\""
   ]
  },
  {
   "cell_type": "code",
   "execution_count": null,
   "metadata": {},
   "outputs": [],
   "source": [
    "response = qa_stuff.run(query)"
   ]
  },
  {
   "cell_type": "code",
   "execution_count": null,
   "metadata": {},
   "outputs": [],
   "source": [
    "display(Markdown(response))"
   ]
  },
  {
   "cell_type": "code",
   "execution_count": null,
   "metadata": {},
   "outputs": [],
   "source": [
    "response = index.query(query, llm=llm)"
   ]
  },
  {
   "cell_type": "code",
   "execution_count": null,
   "metadata": {},
   "outputs": [],
   "source": [
    "index = VectorstoreIndexCreator(\n",
    "    vectorstore_cls=DocArrayInMemorySearch,\n",
    "    embedding=embeddings,\n",
    ").from_loaders([loader])"
   ]
  },
  {
   "cell_type": "markdown",
   "metadata": {},
   "source": [
    "## Experiment on your own"
   ]
  },
  {
   "cell_type": "code",
   "execution_count": null,
   "metadata": {},
   "outputs": [],
   "source": []
  }
 ],
 "metadata": {
  "kernelspec": {
   "display_name": "Python 3 (ipykernel)",
   "language": "python",
   "name": "python3"
  },
  "language_info": {
   "codemirror_mode": {
    "name": "ipython",
    "version": 3
   },
   "file_extension": ".py",
   "mimetype": "text/x-python",
   "name": "python",
   "nbconvert_exporter": "python",
   "pygments_lexer": "ipython3",
   "version": "3.8.6"
  }
 },
 "nbformat": 4,
 "nbformat_minor": 2
}
