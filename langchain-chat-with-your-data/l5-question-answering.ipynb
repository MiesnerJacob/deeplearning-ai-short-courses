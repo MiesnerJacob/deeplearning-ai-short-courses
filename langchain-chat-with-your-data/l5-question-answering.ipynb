{
 "cells": [
  {
   "cell_type": "markdown",
   "metadata": {},
   "source": [
    "# Question Answering"
   ]
  },
  {
   "cell_type": "markdown",
   "metadata": {},
   "source": [
    "## Overview\n",
    "\n",
    "Recall the overall workflow for retrieval augmented generation (RAG):"
   ]
  },
  {
   "cell_type": "markdown",
   "metadata": {},
   "source": [
    "We discussed `Document Loading` and `Splitting` as well as `Storage` and `Retrieval`.\n",
    "\n",
    "Let's load our vectorDB. "
   ]
  },
  {
   "cell_type": "code",
   "execution_count": 1,
   "metadata": {},
   "outputs": [],
   "source": [
    "import os\n",
    "import openai\n",
    "import sys\n",
    "\n",
    "from dotenv import load_dotenv, find_dotenv\n",
    "_ = load_dotenv(find_dotenv()) # read local .env file\n",
    "\n",
    "openai.api_key  = os.environ['OPENAI_API_KEY']"
   ]
  },
  {
   "cell_type": "markdown",
   "metadata": {},
   "source": [
    "The code below was added to assign the openai LLM version filmed until it is deprecated, currently in Sept 2023. \n",
    "LLM responses can often vary, but the responses may be significantly different when using a different model version."
   ]
  },
  {
   "cell_type": "code",
   "execution_count": 2,
   "metadata": {},
   "outputs": [],
   "source": [
    "llm_name = \"gpt-3.5-turbo\""
   ]
  },
  {
   "cell_type": "code",
   "execution_count": 3,
   "metadata": {},
   "outputs": [],
   "source": [
    "from langchain.vectorstores import Chroma\n",
    "from langchain.embeddings.openai import OpenAIEmbeddings\n",
    "persist_directory = 'resources/docs/chroma'\n",
    "embedding = OpenAIEmbeddings()\n",
    "vectordb = Chroma(persist_directory=persist_directory, embedding_function=embedding)"
   ]
  },
  {
   "cell_type": "code",
   "execution_count": 4,
   "metadata": {},
   "outputs": [
    {
     "name": "stdout",
     "output_type": "stream",
     "text": [
      "209\n"
     ]
    }
   ],
   "source": [
    "print(vectordb._collection.count())"
   ]
  },
  {
   "cell_type": "code",
   "execution_count": 5,
   "metadata": {},
   "outputs": [
    {
     "data": {
      "text/plain": [
       "0"
      ]
     },
     "execution_count": 5,
     "metadata": {},
     "output_type": "execute_result"
    }
   ],
   "source": [
    "question = \"What are major topics for this class?\"\n",
    "docs = vectordb.similarity_search(question,k=3)\n",
    "len(docs)"
   ]
  },
  {
   "cell_type": "code",
   "execution_count": 6,
   "metadata": {},
   "outputs": [],
   "source": [
    "from langchain.chat_models import ChatOpenAI\n",
    "llm = ChatOpenAI(model_name=llm_name, temperature=0)"
   ]
  },
  {
   "cell_type": "markdown",
   "metadata": {},
   "source": [
    "### RetrievalQA chain"
   ]
  },
  {
   "cell_type": "code",
   "execution_count": 7,
   "metadata": {},
   "outputs": [],
   "source": [
    "from langchain.chains import RetrievalQA"
   ]
  },
  {
   "cell_type": "code",
   "execution_count": 8,
   "metadata": {},
   "outputs": [],
   "source": [
    "qa_chain = RetrievalQA.from_chain_type(\n",
    "    llm,\n",
    "    retriever=vectordb.as_retriever()\n",
    ")"
   ]
  },
  {
   "cell_type": "code",
   "execution_count": 9,
   "metadata": {},
   "outputs": [],
   "source": [
    "result = qa_chain({\"query\": question})"
   ]
  },
  {
   "cell_type": "code",
   "execution_count": 10,
   "metadata": {},
   "outputs": [
    {
     "data": {
      "text/plain": [
       "'The major topics for this class are computer science, programming languages, algorithms, data structures, software engineering, and computer networks.'"
      ]
     },
     "execution_count": 10,
     "metadata": {},
     "output_type": "execute_result"
    }
   ],
   "source": [
    "result[\"result\"]"
   ]
  },
  {
   "cell_type": "markdown",
   "metadata": {},
   "source": [
    "### Prompt"
   ]
  },
  {
   "cell_type": "code",
   "execution_count": 11,
   "metadata": {},
   "outputs": [],
   "source": [
    "from langchain.prompts import PromptTemplate\n",
    "\n",
    "# Build prompt\n",
    "template = \"\"\"Use the following pieces of context to answer the question at the end. If you don't know the answer, just say that you don't know, don't try to make up an answer. Use three sentences maximum. Keep the answer as concise as possible. Always say \"thanks for asking!\" at the end of the answer. \n",
    "{context}\n",
    "Question: {question}\n",
    "Helpful Answer:\"\"\"\n",
    "QA_CHAIN_PROMPT = PromptTemplate.from_template(template)\n"
   ]
  },
  {
   "cell_type": "code",
   "execution_count": 12,
   "metadata": {},
   "outputs": [],
   "source": [
    "# Run chain\n",
    "qa_chain = RetrievalQA.from_chain_type(\n",
    "    llm,\n",
    "    retriever=vectordb.as_retriever(),\n",
    "    return_source_documents=True,\n",
    "    chain_type_kwargs={\"prompt\": QA_CHAIN_PROMPT}\n",
    ")"
   ]
  },
  {
   "cell_type": "code",
   "execution_count": 13,
   "metadata": {},
   "outputs": [],
   "source": [
    "question = \"Is probability a class topic?\""
   ]
  },
  {
   "cell_type": "code",
   "execution_count": 14,
   "metadata": {},
   "outputs": [],
   "source": [
    "result = qa_chain({\"query\": question})"
   ]
  },
  {
   "cell_type": "code",
   "execution_count": 15,
   "metadata": {},
   "outputs": [
    {
     "data": {
      "text/plain": [
       "'Yes, probability is a class topic in many math and statistics courses. Thanks for asking!'"
      ]
     },
     "execution_count": 15,
     "metadata": {},
     "output_type": "execute_result"
    }
   ],
   "source": [
    "result[\"result\"]"
   ]
  },
  {
   "cell_type": "code",
   "execution_count": 16,
   "metadata": {},
   "outputs": [
    {
     "ename": "IndexError",
     "evalue": "list index out of range",
     "output_type": "error",
     "traceback": [
      "\u001b[0;31m---------------------------------------------------------------------------\u001b[0m",
      "\u001b[0;31mIndexError\u001b[0m                                Traceback (most recent call last)",
      "\u001b[0;32m/var/folders/xh/fhzpv__n2mbg9shw10xrdnkm0000gn/T/ipykernel_98737/3059299211.py\u001b[0m in \u001b[0;36m<cell line: 1>\u001b[0;34m()\u001b[0m\n\u001b[0;32m----> 1\u001b[0;31m \u001b[0mresult\u001b[0m\u001b[0;34m[\u001b[0m\u001b[0;34m\"source_documents\"\u001b[0m\u001b[0;34m]\u001b[0m\u001b[0;34m[\u001b[0m\u001b[0;36m0\u001b[0m\u001b[0;34m]\u001b[0m\u001b[0;34m\u001b[0m\u001b[0;34m\u001b[0m\u001b[0m\n\u001b[0m",
      "\u001b[0;31mIndexError\u001b[0m: list index out of range"
     ]
    }
   ],
   "source": [
    "result[\"source_documents\"][0]"
   ]
  },
  {
   "cell_type": "markdown",
   "metadata": {},
   "source": [
    "### RetrievalQA chain types"
   ]
  },
  {
   "cell_type": "code",
   "execution_count": null,
   "metadata": {},
   "outputs": [],
   "source": [
    "qa_chain_mr = RetrievalQA.from_chain_type(\n",
    "    llm,\n",
    "    retriever=vectordb.as_retriever(),\n",
    "    chain_type=\"map_reduce\"\n",
    ")"
   ]
  },
  {
   "cell_type": "code",
   "execution_count": null,
   "metadata": {},
   "outputs": [],
   "source": [
    "result = qa_chain_mr({\"query\": question})"
   ]
  },
  {
   "cell_type": "code",
   "execution_count": null,
   "metadata": {},
   "outputs": [
    {
     "data": {
      "text/plain": [
       "'Based on the information provided, it is not clear if probability is a specific topic in the class.'"
      ]
     },
     "execution_count": 69,
     "metadata": {},
     "output_type": "execute_result"
    }
   ],
   "source": [
    "result[\"result\"]"
   ]
  },
  {
   "cell_type": "markdown",
   "metadata": {},
   "source": [
    "If you wish to experiment on the `LangChain plus platform`:\n",
    "\n",
    " * Go to [langchain plus platform](https://www.langchain.plus/) and sign up\n",
    " * Create an API key from your account's settings\n",
    " * Use this API key in the code below   \n",
    " * uncomment the code  \n",
    " Note, the endpoint in the video differs from the one below. Use the one below."
   ]
  },
  {
   "cell_type": "code",
   "execution_count": null,
   "metadata": {},
   "outputs": [],
   "source": [
    "#import os\n",
    "#os.environ[\"LANGCHAIN_TRACING_V2\"] = \"true\"\n",
    "#os.environ[\"LANGCHAIN_ENDPOINT\"] = \"https://api.langchain.plus\"\n",
    "#os.environ[\"LANGCHAIN_API_KEY\"] = \"...\" # replace dots with your api key"
   ]
  },
  {
   "cell_type": "code",
   "execution_count": null,
   "metadata": {},
   "outputs": [
    {
     "data": {
      "text/plain": [
       "'Based on the information provided, it is not clear if probability is a specific topic covered in the class.'"
      ]
     },
     "execution_count": 71,
     "metadata": {},
     "output_type": "execute_result"
    }
   ],
   "source": [
    "qa_chain_mr = RetrievalQA.from_chain_type(\n",
    "    llm,\n",
    "    retriever=vectordb.as_retriever(),\n",
    "    chain_type=\"map_reduce\"\n",
    ")\n",
    "result = qa_chain_mr({\"query\": question})\n",
    "result[\"result\"]"
   ]
  },
  {
   "cell_type": "code",
   "execution_count": null,
   "metadata": {},
   "outputs": [
    {
     "data": {
      "text/plain": [
       "'Based on the additional context provided, it is clear that probability is indeed a class topic. The instructor assumes familiarity with basic probability and statistics, and some review of probability will be provided in the discussion sections for those who need a refresher.'"
      ]
     },
     "execution_count": 72,
     "metadata": {},
     "output_type": "execute_result"
    }
   ],
   "source": [
    "qa_chain_mr = RetrievalQA.from_chain_type(\n",
    "    llm,\n",
    "    retriever=vectordb.as_retriever(),\n",
    "    chain_type=\"refine\"\n",
    ")\n",
    "result = qa_chain_mr({\"query\": question})\n",
    "result[\"result\"]"
   ]
  },
  {
   "cell_type": "markdown",
   "metadata": {},
   "source": [
    "### RetrievalQA limitations\n",
    " \n",
    "QA fails to preserve conversational history."
   ]
  },
  {
   "cell_type": "code",
   "execution_count": null,
   "metadata": {},
   "outputs": [],
   "source": [
    "qa_chain = RetrievalQA.from_chain_type(\n",
    "    llm,\n",
    "    retriever=vectordb.as_retriever()\n",
    ")"
   ]
  },
  {
   "cell_type": "code",
   "execution_count": null,
   "metadata": {},
   "outputs": [
    {
     "data": {
      "text/plain": [
       "'Yes, probability is a topic that will be covered in the class. The instructor assumes that students have familiarity with basic probability and statistics.'"
      ]
     },
     "execution_count": 74,
     "metadata": {},
     "output_type": "execute_result"
    }
   ],
   "source": [
    "question = \"Is probability a class topic?\"\n",
    "result = qa_chain({\"query\": question})\n",
    "result[\"result\"]"
   ]
  },
  {
   "cell_type": "code",
   "execution_count": null,
   "metadata": {},
   "outputs": [
    {
     "data": {
      "text/plain": [
       "'The prerequisites are needed because they provide a foundation of basic knowledge and skills that are necessary for understanding and applying machine learning algorithms. Having a basic knowledge of computer science and understanding concepts like big-O notation allows students to grasp the underlying principles and techniques used in machine learning. It ensures that all students are starting from a similar level of understanding and can effectively engage with the material taught in the class.'"
      ]
     },
     "execution_count": 75,
     "metadata": {},
     "output_type": "execute_result"
    }
   ],
   "source": [
    "question = \"why are those prerequesites needed?\"\n",
    "result = qa_chain({\"query\": question})\n",
    "result[\"result\"]"
   ]
  },
  {
   "cell_type": "markdown",
   "metadata": {},
   "source": [
    "Note, The LLM response varies. Some responses **do** include a reference to probability which might be gleaned from referenced documents. The point is simply that the model does not have access to past questions or answers, this will be covered in the next section."
   ]
  },
  {
   "cell_type": "markdown",
   "metadata": {},
   "source": [
    "## Experiment on your own"
   ]
  },
  {
   "cell_type": "code",
   "execution_count": null,
   "metadata": {},
   "outputs": [],
   "source": [
    "# Set up Chroma DB\n",
    "\n",
    "from langchain.text_splitter import RecursiveCharacterTextSplitter\n",
    "\n",
    "persist_directory = 'resources/docs/chroma'\n",
    "embedding = OpenAIEmbeddings()\n",
    "\n",
    "machine_learning_texts = [\n",
    "    \"Machine Learning, a branch of artificial intelligence, focuses on the development of algorithms that enable computers to learn from and make predictions or decisions based on data. Unlike traditional programming, where instructions are explicitly given, ML algorithms improve automatically through experience.\",\n",
    "    \"Supervised learning, a primary method within Machine Learning, involves training an algorithm on a labeled dataset, where the correct output is known, enabling the model to learn over time to predict the output when given new data.\",\n",
    "    \"Unsupervised learning, another core technique in Machine Learning, deals with input data without labeled responses. The system tries to learn the patterns and the structure from such data by itself, often used for clustering or anomaly detection.\",\n",
    "    \"Reinforcement learning is a type of Machine Learning where an algorithm learns to perform an action from experience by making decisions in a game-like scenario. It optimizes its decision-making process based on the rewards received for actions taken.\",\n",
    "    \"Deep Learning, a subset of Machine Learning, utilizes neural networks with many layers. These algorithms are particularly powerful in handling vast amounts of data and are behind many advances in image and speech recognition, language translation, and autonomous vehicles.\",\n",
    "    \"Feature engineering is a crucial step in the Machine Learning process, involving the selection, modification, and creation of input variables or features that are used to train the model. It significantly impacts the performance of ML algorithms.\",\n",
    "    \"Overfitting in Machine Learning occurs when a model learns the detail and noise in the training data to the extent that it performs poorly on new data. Techniques such as cross-validation, regularization, and pruning are used to avoid this issue.\",\n",
    "    \"Machine Learning models require large volumes of data for training. However, the quality and relevance of the data are equally important, as biased or incomplete data can lead to inaccurate models that perpetuate biases or fail to perform as intended.\",\n",
    "    \"The ethical implications of Machine Learning are a growing concern, as the technology can inadvertently reinforce existing biases, infringe on privacy, or be used in manipulative ways. Ensuring fairness, accountability, and transparency in ML models is crucial.\",\n",
    "    \"The future of Machine Learning promises advancements in personalized medicine, environmental protection, and automated systems. However, it also poses challenges in job displacement, security, and ensuring ethical use of the technology.\",\n",
    "]\n",
    "\n",
    "machine_learning_metadatas = [\n",
    "    {\"summary\": \"Introduction to ML\", \"category\": \"Basics\"},\n",
    "    {\"summary\": \"Supervised Learning Overview\", \"category\": \"Learning Types\"},\n",
    "    {\"summary\": \"Unsupervised Learning Explained\", \"category\": \"Learning Types\"},\n",
    "    {\"summary\": \"Basics of Reinforcement Learning\", \"category\": \"Learning Types\"},\n",
    "    {\"summary\": \"Deep Learning and Neural Networks\", \"category\": \"Advanced Topics\"},\n",
    "    {\"summary\": \"Feature Engineering Techniques\", \"category\": \"Model Preparation\"},\n",
    "    {\"summary\": \"Handling Overfitting in Models\", \"category\": \"Model Evaluation\"},\n",
    "    {\"summary\": \"Importance of Data Quality\", \"category\": \"Data Preparation\"},\n",
    "    {\"summary\": \"Ethical Considerations in ML\", \"category\": \"Ethics and Future\"},\n",
    "    {\"summary\": \"Future Trends in Machine Learning\", \"category\": \"Ethics and Future\"}\n",
    "]\n",
    "\n",
    "\n",
    "ml_db = Chroma.from_texts(\n",
    "    texts=machine_learning_texts,\n",
    "    metadatas=machine_learning_metadatas,\n",
    "    embedding=embedding)\n",
    "\n",
    "llm = ChatOpenAI(model_name=llm_name, temperature=0)\n"
   ]
  },
  {
   "cell_type": "code",
   "execution_count": null,
   "metadata": {},
   "outputs": [
    {
     "name": "stdout",
     "output_type": "stream",
     "text": [
      "page_content='Deep Learning, a subset of Machine Learning, utilizes neural networks with many layers. These algorithms are particularly powerful in handling vast amounts of data and are behind many advances in image and speech recognition, language translation, and autonomous vehicles.' metadata={'summary': 'Deep Learning and Neural Networks', 'category': 'Advanced Topics'}\n",
      "page_content='Machine Learning, a branch of artificial intelligence, focuses on the development of algorithms that enable computers to learn from and make predictions or decisions based on data. Unlike traditional programming, where instructions are explicitly given, ML algorithms improve automatically through experience.' metadata={'summary': 'Introduction to ML', 'category': 'Basics'}\n",
      "page_content='Supervised learning, a primary method within Machine Learning, involves training an algorithm on a labeled dataset, where the correct output is known, enabling the model to learn over time to predict the output when given new data.' metadata={'summary': 'Supervised Learning Overview', 'category': 'Learning Types'}\n"
     ]
    }
   ],
   "source": [
    "# Retrieve Relevant Documents for Question\n",
    "question = \"What are some of the main techniques used in Machine Learning?\"\n",
    "docs = ml_db.similarity_search(question,k=3)\n",
    "len(docs)\n",
    "for i in docs:\n",
    "    print(i)"
   ]
  },
  {
   "cell_type": "code",
   "execution_count": null,
   "metadata": {},
   "outputs": [
    {
     "name": "stdout",
     "output_type": "stream",
     "text": [
      "Some of the main techniques used in Machine Learning include supervised learning, unsupervised learning, and reinforcement learning. Thanks for asking!\n",
      "[Document(page_content='Deep Learning, a subset of Machine Learning, utilizes neural networks with many layers. These algorithms are particularly powerful in handling vast amounts of data and are behind many advances in image and speech recognition, language translation, and autonomous vehicles.', metadata={'summary': 'Deep Learning and Neural Networks', 'category': 'Advanced Topics'}), Document(page_content='Machine Learning, a branch of artificial intelligence, focuses on the development of algorithms that enable computers to learn from and make predictions or decisions based on data. Unlike traditional programming, where instructions are explicitly given, ML algorithms improve automatically through experience.', metadata={'summary': 'Introduction to ML', 'category': 'Basics'}), Document(page_content='Supervised learning, a primary method within Machine Learning, involves training an algorithm on a labeled dataset, where the correct output is known, enabling the model to learn over time to predict the output when given new data.', metadata={'summary': 'Supervised Learning Overview', 'category': 'Learning Types'}), Document(page_content='Machine Learning models require large volumes of data for training. However, the quality and relevance of the data are equally important, as biased or incomplete data can lead to inaccurate models that perpetuate biases or fail to perform as intended.', metadata={'summary': 'Importance of Data Quality', 'category': 'Data Preparation'})]\n"
     ]
    }
   ],
   "source": [
    "# Retrieval QA Chain (Prompt Template)\n",
    "\n",
    "template = \"\"\"Use the following pieces of context to answer the question at the end. If you don't know the answer, just say that you don't know, don't try to make up an answer. Use three sentences maximum. Keep the answer as concise as possible. Always say \"thanks for asking!\" at the end of the answer. \n",
    "{context}\n",
    "Question: {question}\n",
    "Helpful Answer:\"\"\"\n",
    "QA_CHAIN_PROMPT = PromptTemplate.from_template(template)\n",
    "\n",
    "qa_chain = RetrievalQA.from_chain_type(\n",
    "    llm,\n",
    "    retriever=ml_db.as_retriever(),\n",
    "    return_source_documents=True,\n",
    "    chain_type_kwargs={\"prompt\": QA_CHAIN_PROMPT}\n",
    ")\n",
    "\n",
    "result = qa_chain({\"query\": question})\n",
    "\n",
    "print(result['result'])\n",
    "print(result['source_documents'])\n"
   ]
  },
  {
   "cell_type": "code",
   "execution_count": null,
   "metadata": {},
   "outputs": [
    {
     "name": "stdout",
     "output_type": "stream",
     "text": [
      "Some of the main techniques used in Machine Learning include:\n",
      "\n",
      "1. Supervised Learning: This technique involves training a model on labeled data, where the correct output is known. The model learns to make predictions or decisions based on this labeled data.\n",
      "\n",
      "2. Unsupervised Learning: In this technique, the model learns from unlabeled data, finding patterns or structures within the data without any predefined labels. Clustering and dimensionality reduction are common tasks in unsupervised learning.\n",
      "\n",
      "3. Reinforcement Learning: This technique involves training a model to make decisions in an environment, where it receives feedback in the form of rewards or penalties. The model learns to take actions that maximize the cumulative reward over time.\n",
      "\n",
      "4. Deep Learning: Deep Learning is a subset of Machine Learning that uses neural networks with many layers. These networks are capable of learning complex patterns and representations from large amounts of data.\n",
      "\n",
      "5. Transfer Learning: This technique involves leveraging knowledge learned from one task or domain to improve performance on another related task or domain. It allows models to benefit from pre-trained models and reduces the need for large amounts of labeled data.\n",
      "\n",
      "6. Ensemble Learning: Ensemble Learning combines multiple models to make predictions or decisions. By aggregating the predictions of multiple models, ensemble methods can often achieve better performance than individual models.\n",
      "\n",
      "7. Feature Engineering: Feature Engineering involves selecting, transforming, and creating relevant features from the raw data to improve the performance of machine learning models. It requires domain knowledge and understanding of the data.\n",
      "\n",
      "These are just a few of the main techniques used in Machine Learning, and there are many other specialized techniques and algorithms within each category.\n",
      "[Document(page_content='Deep Learning, a subset of Machine Learning, utilizes neural networks with many layers. These algorithms are particularly powerful in handling vast amounts of data and are behind many advances in image and speech recognition, language translation, and autonomous vehicles.', metadata={'summary': 'Deep Learning and Neural Networks', 'category': 'Advanced Topics'}), Document(page_content='Machine Learning, a branch of artificial intelligence, focuses on the development of algorithms that enable computers to learn from and make predictions or decisions based on data. Unlike traditional programming, where instructions are explicitly given, ML algorithms improve automatically through experience.', metadata={'summary': 'Introduction to ML', 'category': 'Basics'}), Document(page_content='Supervised learning, a primary method within Machine Learning, involves training an algorithm on a labeled dataset, where the correct output is known, enabling the model to learn over time to predict the output when given new data.', metadata={'summary': 'Supervised Learning Overview', 'category': 'Learning Types'}), Document(page_content='Machine Learning models require large volumes of data for training. However, the quality and relevance of the data are equally important, as biased or incomplete data can lead to inaccurate models that perpetuate biases or fail to perform as intended.', metadata={'summary': 'Importance of Data Quality', 'category': 'Data Preparation'})]\n"
     ]
    }
   ],
   "source": [
    "# Retrieval QA Chain (Stuff)\n",
    "\n",
    "qa_chain_stuff = RetrievalQA.from_chain_type(\n",
    "    llm,\n",
    "    retriever=ml_db.as_retriever(),\n",
    "    return_source_documents=True,\n",
    "    chain_type=\"stuff\"\n",
    ")\n",
    "\n",
    "result = qa_chain_stuff({\"query\": question})\n",
    "\n",
    "print(result['result'])\n",
    "print(result['source_documents'])"
   ]
  },
  {
   "cell_type": "code",
   "execution_count": null,
   "metadata": {},
   "outputs": [
    {
     "name": "stdout",
     "output_type": "stream",
     "text": [
      "Some of the main techniques used in Machine Learning include:\n",
      "\n",
      "1. Supervised Learning: This technique involves training a model on labeled data, where the input data is paired with the corresponding correct output. The model learns to make predictions based on this labeled data.\n",
      "\n",
      "2. Unsupervised Learning: In this technique, the model is trained on unlabeled data, where there are no predefined output labels. The model learns to find patterns, structures, or relationships in the data without any guidance.\n",
      "\n",
      "3. Reinforcement Learning: This technique involves training a model to make decisions in an environment to maximize a reward. The model learns through trial and error, receiving feedback in the form of rewards or penalties based on its actions.\n",
      "\n",
      "4. Deep Learning: Deep Learning is a subset of Machine Learning that focuses on training deep neural networks with multiple layers. These networks can learn complex patterns and representations from large amounts of data.\n",
      "\n",
      "5. Transfer Learning: Transfer Learning involves using knowledge gained from one task to improve the performance on another related task. Pretrained models are often used as a starting point and fine-tuned for the specific task at hand.\n",
      "\n",
      "6. Ensemble Learning: Ensemble Learning combines multiple models to make predictions. This technique aims to improve the overall performance and robustness of the model by leveraging the strengths of different models.\n",
      "\n",
      "7. Dimensionality Reduction: Dimensionality Reduction techniques are used to reduce the number of features or variables in a dataset while preserving the most important information. This helps in simplifying the model and improving its efficiency.\n",
      "\n",
      "8. Clustering: Clustering is a technique used to group similar data points together based on their characteristics or similarities. It helps in identifying patterns or structures in the data.\n",
      "\n",
      "These are just a few examples of the main techniques used in Machine Learning. There are many other techniques and algorithms available, each with its own strengths and applications. The choice of technique depends on the specific problem and the nature of the data.\n",
      "[Document(page_content='Deep Learning, a subset of Machine Learning, utilizes neural networks with many layers. These algorithms are particularly powerful in handling vast amounts of data and are behind many advances in image and speech recognition, language translation, and autonomous vehicles.', metadata={'summary': 'Deep Learning and Neural Networks', 'category': 'Advanced Topics'}), Document(page_content='Machine Learning, a branch of artificial intelligence, focuses on the development of algorithms that enable computers to learn from and make predictions or decisions based on data. Unlike traditional programming, where instructions are explicitly given, ML algorithms improve automatically through experience.', metadata={'summary': 'Introduction to ML', 'category': 'Basics'}), Document(page_content='Supervised learning, a primary method within Machine Learning, involves training an algorithm on a labeled dataset, where the correct output is known, enabling the model to learn over time to predict the output when given new data.', metadata={'summary': 'Supervised Learning Overview', 'category': 'Learning Types'}), Document(page_content='Machine Learning models require large volumes of data for training. However, the quality and relevance of the data are equally important, as biased or incomplete data can lead to inaccurate models that perpetuate biases or fail to perform as intended.', metadata={'summary': 'Importance of Data Quality', 'category': 'Data Preparation'})]\n"
     ]
    }
   ],
   "source": [
    "# Retrieval QA Chain (Map Reduce)\n",
    "\n",
    "qa_chain_mr = RetrievalQA.from_chain_type(\n",
    "    llm,\n",
    "    retriever=ml_db.as_retriever(),\n",
    "    return_source_documents=True,\n",
    "    chain_type=\"map_reduce\"\n",
    ")\n",
    "\n",
    "result = qa_chain_mr({\"query\": question})\n",
    "\n",
    "print(result['result'])\n",
    "print(result['source_documents'])"
   ]
  },
  {
   "cell_type": "code",
   "execution_count": null,
   "metadata": {},
   "outputs": [
    {
     "name": "stdout",
     "output_type": "stream",
     "text": [
      "The original answer remains relevant and comprehensive in addressing the main techniques used in Machine Learning. However, considering the additional context, it is important to emphasize the significance of data quality and relevance in training Machine Learning models. Biased or incomplete data can indeed lead to inaccurate models that perpetuate biases or fail to perform as intended. Therefore, it is crucial to ensure that the data used for training is representative, diverse, and free from biases to achieve reliable and unbiased models.\n",
      "[Document(page_content='Deep Learning, a subset of Machine Learning, utilizes neural networks with many layers. These algorithms are particularly powerful in handling vast amounts of data and are behind many advances in image and speech recognition, language translation, and autonomous vehicles.', metadata={'summary': 'Deep Learning and Neural Networks', 'category': 'Advanced Topics'}), Document(page_content='Machine Learning, a branch of artificial intelligence, focuses on the development of algorithms that enable computers to learn from and make predictions or decisions based on data. Unlike traditional programming, where instructions are explicitly given, ML algorithms improve automatically through experience.', metadata={'summary': 'Introduction to ML', 'category': 'Basics'}), Document(page_content='Supervised learning, a primary method within Machine Learning, involves training an algorithm on a labeled dataset, where the correct output is known, enabling the model to learn over time to predict the output when given new data.', metadata={'summary': 'Supervised Learning Overview', 'category': 'Learning Types'}), Document(page_content='Machine Learning models require large volumes of data for training. However, the quality and relevance of the data are equally important, as biased or incomplete data can lead to inaccurate models that perpetuate biases or fail to perform as intended.', metadata={'summary': 'Importance of Data Quality', 'category': 'Data Preparation'})]\n"
     ]
    }
   ],
   "source": [
    "# Retrieval QA Chain (Refine)\n",
    "\n",
    "qa_chain_refine = RetrievalQA.from_chain_type(\n",
    "    llm,\n",
    "    retriever=ml_db.as_retriever(),\n",
    "    return_source_documents=True,\n",
    "    chain_type=\"refine\"\n",
    ")\n",
    "\n",
    "result = qa_chain_refine({\"query\": question})\n",
    "\n",
    "print(result['result'])\n",
    "print(result['source_documents'])"
   ]
  }
 ],
 "metadata": {
  "kernelspec": {
   "display_name": "Python 3 (ipykernel)",
   "language": "python",
   "name": "python3"
  }
 },
 "nbformat": 4,
 "nbformat_minor": 2
}
